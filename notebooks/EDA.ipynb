{
 "cells": [
  {
   "cell_type": "code",
   "execution_count": 1,
   "id": "ebb10f33-a470-40c7-aec8-b87780654a24",
   "metadata": {},
   "outputs": [],
   "source": [
    "import numpy as np \n",
    "import pandas as pd \n",
    "import seaborn as sns \n",
    "from matplotlib import pyplot as plt \n",
    "import warnings\n",
    "warnings.filterwarnings(\"ignore\")\n",
    "pd.set_option('display.max_columns', None)"
   ]
  },
  {
   "cell_type": "code",
   "execution_count": 2,
   "id": "42c24c52-10f9-4b97-8df4-33f705ee407d",
   "metadata": {},
   "outputs": [
    {
     "data": {
      "text/html": [
       "<div>\n",
       "<style scoped>\n",
       "    .dataframe tbody tr th:only-of-type {\n",
       "        vertical-align: middle;\n",
       "    }\n",
       "\n",
       "    .dataframe tbody tr th {\n",
       "        vertical-align: top;\n",
       "    }\n",
       "\n",
       "    .dataframe thead th {\n",
       "        text-align: right;\n",
       "    }\n",
       "</style>\n",
       "<table border=\"1\" class=\"dataframe\">\n",
       "  <thead>\n",
       "    <tr style=\"text-align: right;\">\n",
       "      <th></th>\n",
       "      <th>Unnamed: 0</th>\n",
       "      <th>Company</th>\n",
       "      <th>TypeName</th>\n",
       "      <th>Inches</th>\n",
       "      <th>ScreenResolution</th>\n",
       "      <th>Cpu</th>\n",
       "      <th>Ram</th>\n",
       "      <th>Memory</th>\n",
       "      <th>Gpu</th>\n",
       "      <th>OpSys</th>\n",
       "      <th>Weight</th>\n",
       "      <th>Price</th>\n",
       "    </tr>\n",
       "  </thead>\n",
       "  <tbody>\n",
       "    <tr>\n",
       "      <th>0</th>\n",
       "      <td>0</td>\n",
       "      <td>Apple</td>\n",
       "      <td>Ultrabook</td>\n",
       "      <td>13.3</td>\n",
       "      <td>IPS Panel Retina Display 2560x1600</td>\n",
       "      <td>Intel Core i5 2.3GHz</td>\n",
       "      <td>8GB</td>\n",
       "      <td>128GB SSD</td>\n",
       "      <td>Intel Iris Plus Graphics 640</td>\n",
       "      <td>macOS</td>\n",
       "      <td>1.37kg</td>\n",
       "      <td>71378.6832</td>\n",
       "    </tr>\n",
       "    <tr>\n",
       "      <th>1</th>\n",
       "      <td>1</td>\n",
       "      <td>Apple</td>\n",
       "      <td>Ultrabook</td>\n",
       "      <td>13.3</td>\n",
       "      <td>1440x900</td>\n",
       "      <td>Intel Core i5 1.8GHz</td>\n",
       "      <td>8GB</td>\n",
       "      <td>128GB Flash Storage</td>\n",
       "      <td>Intel HD Graphics 6000</td>\n",
       "      <td>macOS</td>\n",
       "      <td>1.34kg</td>\n",
       "      <td>47895.5232</td>\n",
       "    </tr>\n",
       "    <tr>\n",
       "      <th>2</th>\n",
       "      <td>2</td>\n",
       "      <td>HP</td>\n",
       "      <td>Notebook</td>\n",
       "      <td>15.6</td>\n",
       "      <td>Full HD 1920x1080</td>\n",
       "      <td>Intel Core i5 7200U 2.5GHz</td>\n",
       "      <td>8GB</td>\n",
       "      <td>256GB SSD</td>\n",
       "      <td>Intel HD Graphics 620</td>\n",
       "      <td>No OS</td>\n",
       "      <td>1.86kg</td>\n",
       "      <td>30636.0000</td>\n",
       "    </tr>\n",
       "    <tr>\n",
       "      <th>3</th>\n",
       "      <td>3</td>\n",
       "      <td>Apple</td>\n",
       "      <td>Ultrabook</td>\n",
       "      <td>15.4</td>\n",
       "      <td>IPS Panel Retina Display 2880x1800</td>\n",
       "      <td>Intel Core i7 2.7GHz</td>\n",
       "      <td>16GB</td>\n",
       "      <td>512GB SSD</td>\n",
       "      <td>AMD Radeon Pro 455</td>\n",
       "      <td>macOS</td>\n",
       "      <td>1.83kg</td>\n",
       "      <td>135195.3360</td>\n",
       "    </tr>\n",
       "    <tr>\n",
       "      <th>4</th>\n",
       "      <td>4</td>\n",
       "      <td>Apple</td>\n",
       "      <td>Ultrabook</td>\n",
       "      <td>13.3</td>\n",
       "      <td>IPS Panel Retina Display 2560x1600</td>\n",
       "      <td>Intel Core i5 3.1GHz</td>\n",
       "      <td>8GB</td>\n",
       "      <td>256GB SSD</td>\n",
       "      <td>Intel Iris Plus Graphics 650</td>\n",
       "      <td>macOS</td>\n",
       "      <td>1.37kg</td>\n",
       "      <td>96095.8080</td>\n",
       "    </tr>\n",
       "  </tbody>\n",
       "</table>\n",
       "</div>"
      ],
      "text/plain": [
       "   Unnamed: 0 Company   TypeName  Inches                    ScreenResolution  \\\n",
       "0           0   Apple  Ultrabook    13.3  IPS Panel Retina Display 2560x1600   \n",
       "1           1   Apple  Ultrabook    13.3                            1440x900   \n",
       "2           2      HP   Notebook    15.6                   Full HD 1920x1080   \n",
       "3           3   Apple  Ultrabook    15.4  IPS Panel Retina Display 2880x1800   \n",
       "4           4   Apple  Ultrabook    13.3  IPS Panel Retina Display 2560x1600   \n",
       "\n",
       "                          Cpu   Ram               Memory  \\\n",
       "0        Intel Core i5 2.3GHz   8GB            128GB SSD   \n",
       "1        Intel Core i5 1.8GHz   8GB  128GB Flash Storage   \n",
       "2  Intel Core i5 7200U 2.5GHz   8GB            256GB SSD   \n",
       "3        Intel Core i7 2.7GHz  16GB            512GB SSD   \n",
       "4        Intel Core i5 3.1GHz   8GB            256GB SSD   \n",
       "\n",
       "                            Gpu  OpSys  Weight        Price  \n",
       "0  Intel Iris Plus Graphics 640  macOS  1.37kg   71378.6832  \n",
       "1        Intel HD Graphics 6000  macOS  1.34kg   47895.5232  \n",
       "2         Intel HD Graphics 620  No OS  1.86kg   30636.0000  \n",
       "3            AMD Radeon Pro 455  macOS  1.83kg  135195.3360  \n",
       "4  Intel Iris Plus Graphics 650  macOS  1.37kg   96095.8080  "
      ]
     },
     "execution_count": 2,
     "metadata": {},
     "output_type": "execute_result"
    }
   ],
   "source": [
    "# Load the dataset\n",
    "df = pd.read_csv('laptop_data.csv')\n",
    "df.head()"
   ]
  },
  {
   "cell_type": "code",
   "execution_count": 3,
   "id": "a0c9dbe0-85c9-45a0-b361-26f2c8666bee",
   "metadata": {},
   "outputs": [
    {
     "data": {
      "text/plain": [
       "(1303, 12)"
      ]
     },
     "execution_count": 3,
     "metadata": {},
     "output_type": "execute_result"
    }
   ],
   "source": [
    "df.shape"
   ]
  },
  {
   "cell_type": "code",
   "execution_count": 4,
   "id": "b0d3c5b4-3904-4b4b-9847-b48dbc8cb991",
   "metadata": {},
   "outputs": [
    {
     "data": {
      "text/plain": [
       "Unnamed: 0          0\n",
       "Company             0\n",
       "TypeName            0\n",
       "Inches              0\n",
       "ScreenResolution    0\n",
       "Cpu                 0\n",
       "Ram                 0\n",
       "Memory              0\n",
       "Gpu                 0\n",
       "OpSys               0\n",
       "Weight              0\n",
       "Price               0\n",
       "dtype: int64"
      ]
     },
     "execution_count": 4,
     "metadata": {},
     "output_type": "execute_result"
    }
   ],
   "source": [
    "df.isna().sum()"
   ]
  },
  {
   "cell_type": "code",
   "execution_count": 5,
   "id": "4f700507-01d0-4e12-9a75-b2b60fc678c2",
   "metadata": {},
   "outputs": [
    {
     "data": {
      "text/plain": [
       "0"
      ]
     },
     "execution_count": 5,
     "metadata": {},
     "output_type": "execute_result"
    }
   ],
   "source": [
    "df.duplicated().sum()"
   ]
  },
  {
   "cell_type": "code",
   "execution_count": 6,
   "id": "1cde2046-f563-4052-823d-6b3a00a43e21",
   "metadata": {},
   "outputs": [],
   "source": [
    "# drop the unnamed col \n",
    "df.drop(columns = ['Unnamed: 0'] , axis = 1 , inplace = True)"
   ]
  },
  {
   "cell_type": "code",
   "execution_count": 7,
   "id": "1a42a054-7f08-49dd-9463-0740ca13226d",
   "metadata": {},
   "outputs": [
    {
     "data": {
      "text/html": [
       "<div>\n",
       "<style scoped>\n",
       "    .dataframe tbody tr th:only-of-type {\n",
       "        vertical-align: middle;\n",
       "    }\n",
       "\n",
       "    .dataframe tbody tr th {\n",
       "        vertical-align: top;\n",
       "    }\n",
       "\n",
       "    .dataframe thead th {\n",
       "        text-align: right;\n",
       "    }\n",
       "</style>\n",
       "<table border=\"1\" class=\"dataframe\">\n",
       "  <thead>\n",
       "    <tr style=\"text-align: right;\">\n",
       "      <th></th>\n",
       "      <th>Company</th>\n",
       "      <th>TypeName</th>\n",
       "      <th>Inches</th>\n",
       "      <th>ScreenResolution</th>\n",
       "      <th>Cpu</th>\n",
       "      <th>Ram</th>\n",
       "      <th>Memory</th>\n",
       "      <th>Gpu</th>\n",
       "      <th>OpSys</th>\n",
       "      <th>Weight</th>\n",
       "      <th>Price</th>\n",
       "    </tr>\n",
       "  </thead>\n",
       "  <tbody>\n",
       "    <tr>\n",
       "      <th>0</th>\n",
       "      <td>Apple</td>\n",
       "      <td>Ultrabook</td>\n",
       "      <td>13.3</td>\n",
       "      <td>IPS Panel Retina Display 2560x1600</td>\n",
       "      <td>Intel Core i5 2.3GHz</td>\n",
       "      <td>8GB</td>\n",
       "      <td>128GB SSD</td>\n",
       "      <td>Intel Iris Plus Graphics 640</td>\n",
       "      <td>macOS</td>\n",
       "      <td>1.37kg</td>\n",
       "      <td>71378.6832</td>\n",
       "    </tr>\n",
       "    <tr>\n",
       "      <th>1</th>\n",
       "      <td>Apple</td>\n",
       "      <td>Ultrabook</td>\n",
       "      <td>13.3</td>\n",
       "      <td>1440x900</td>\n",
       "      <td>Intel Core i5 1.8GHz</td>\n",
       "      <td>8GB</td>\n",
       "      <td>128GB Flash Storage</td>\n",
       "      <td>Intel HD Graphics 6000</td>\n",
       "      <td>macOS</td>\n",
       "      <td>1.34kg</td>\n",
       "      <td>47895.5232</td>\n",
       "    </tr>\n",
       "    <tr>\n",
       "      <th>2</th>\n",
       "      <td>HP</td>\n",
       "      <td>Notebook</td>\n",
       "      <td>15.6</td>\n",
       "      <td>Full HD 1920x1080</td>\n",
       "      <td>Intel Core i5 7200U 2.5GHz</td>\n",
       "      <td>8GB</td>\n",
       "      <td>256GB SSD</td>\n",
       "      <td>Intel HD Graphics 620</td>\n",
       "      <td>No OS</td>\n",
       "      <td>1.86kg</td>\n",
       "      <td>30636.0000</td>\n",
       "    </tr>\n",
       "    <tr>\n",
       "      <th>3</th>\n",
       "      <td>Apple</td>\n",
       "      <td>Ultrabook</td>\n",
       "      <td>15.4</td>\n",
       "      <td>IPS Panel Retina Display 2880x1800</td>\n",
       "      <td>Intel Core i7 2.7GHz</td>\n",
       "      <td>16GB</td>\n",
       "      <td>512GB SSD</td>\n",
       "      <td>AMD Radeon Pro 455</td>\n",
       "      <td>macOS</td>\n",
       "      <td>1.83kg</td>\n",
       "      <td>135195.3360</td>\n",
       "    </tr>\n",
       "    <tr>\n",
       "      <th>4</th>\n",
       "      <td>Apple</td>\n",
       "      <td>Ultrabook</td>\n",
       "      <td>13.3</td>\n",
       "      <td>IPS Panel Retina Display 2560x1600</td>\n",
       "      <td>Intel Core i5 3.1GHz</td>\n",
       "      <td>8GB</td>\n",
       "      <td>256GB SSD</td>\n",
       "      <td>Intel Iris Plus Graphics 650</td>\n",
       "      <td>macOS</td>\n",
       "      <td>1.37kg</td>\n",
       "      <td>96095.8080</td>\n",
       "    </tr>\n",
       "  </tbody>\n",
       "</table>\n",
       "</div>"
      ],
      "text/plain": [
       "  Company   TypeName  Inches                    ScreenResolution  \\\n",
       "0   Apple  Ultrabook    13.3  IPS Panel Retina Display 2560x1600   \n",
       "1   Apple  Ultrabook    13.3                            1440x900   \n",
       "2      HP   Notebook    15.6                   Full HD 1920x1080   \n",
       "3   Apple  Ultrabook    15.4  IPS Panel Retina Display 2880x1800   \n",
       "4   Apple  Ultrabook    13.3  IPS Panel Retina Display 2560x1600   \n",
       "\n",
       "                          Cpu   Ram               Memory  \\\n",
       "0        Intel Core i5 2.3GHz   8GB            128GB SSD   \n",
       "1        Intel Core i5 1.8GHz   8GB  128GB Flash Storage   \n",
       "2  Intel Core i5 7200U 2.5GHz   8GB            256GB SSD   \n",
       "3        Intel Core i7 2.7GHz  16GB            512GB SSD   \n",
       "4        Intel Core i5 3.1GHz   8GB            256GB SSD   \n",
       "\n",
       "                            Gpu  OpSys  Weight        Price  \n",
       "0  Intel Iris Plus Graphics 640  macOS  1.37kg   71378.6832  \n",
       "1        Intel HD Graphics 6000  macOS  1.34kg   47895.5232  \n",
       "2         Intel HD Graphics 620  No OS  1.86kg   30636.0000  \n",
       "3            AMD Radeon Pro 455  macOS  1.83kg  135195.3360  \n",
       "4  Intel Iris Plus Graphics 650  macOS  1.37kg   96095.8080  "
      ]
     },
     "execution_count": 7,
     "metadata": {},
     "output_type": "execute_result"
    }
   ],
   "source": [
    "df.head()"
   ]
  },
  {
   "cell_type": "code",
   "execution_count": 8,
   "id": "0db9e7f0-5728-4888-9711-24ea29f199e9",
   "metadata": {},
   "outputs": [
    {
     "data": {
      "text/html": [
       "<div>\n",
       "<style scoped>\n",
       "    .dataframe tbody tr th:only-of-type {\n",
       "        vertical-align: middle;\n",
       "    }\n",
       "\n",
       "    .dataframe tbody tr th {\n",
       "        vertical-align: top;\n",
       "    }\n",
       "\n",
       "    .dataframe thead th {\n",
       "        text-align: right;\n",
       "    }\n",
       "</style>\n",
       "<table border=\"1\" class=\"dataframe\">\n",
       "  <thead>\n",
       "    <tr style=\"text-align: right;\">\n",
       "      <th></th>\n",
       "      <th>Inches</th>\n",
       "      <th>Price</th>\n",
       "    </tr>\n",
       "  </thead>\n",
       "  <tbody>\n",
       "    <tr>\n",
       "      <th>count</th>\n",
       "      <td>1303.000000</td>\n",
       "      <td>1303.000000</td>\n",
       "    </tr>\n",
       "    <tr>\n",
       "      <th>mean</th>\n",
       "      <td>15.017191</td>\n",
       "      <td>59870.042910</td>\n",
       "    </tr>\n",
       "    <tr>\n",
       "      <th>std</th>\n",
       "      <td>1.426304</td>\n",
       "      <td>37243.201786</td>\n",
       "    </tr>\n",
       "    <tr>\n",
       "      <th>min</th>\n",
       "      <td>10.100000</td>\n",
       "      <td>9270.720000</td>\n",
       "    </tr>\n",
       "    <tr>\n",
       "      <th>25%</th>\n",
       "      <td>14.000000</td>\n",
       "      <td>31914.720000</td>\n",
       "    </tr>\n",
       "    <tr>\n",
       "      <th>50%</th>\n",
       "      <td>15.600000</td>\n",
       "      <td>52054.560000</td>\n",
       "    </tr>\n",
       "    <tr>\n",
       "      <th>75%</th>\n",
       "      <td>15.600000</td>\n",
       "      <td>79274.246400</td>\n",
       "    </tr>\n",
       "    <tr>\n",
       "      <th>max</th>\n",
       "      <td>18.400000</td>\n",
       "      <td>324954.720000</td>\n",
       "    </tr>\n",
       "  </tbody>\n",
       "</table>\n",
       "</div>"
      ],
      "text/plain": [
       "            Inches          Price\n",
       "count  1303.000000    1303.000000\n",
       "mean     15.017191   59870.042910\n",
       "std       1.426304   37243.201786\n",
       "min      10.100000    9270.720000\n",
       "25%      14.000000   31914.720000\n",
       "50%      15.600000   52054.560000\n",
       "75%      15.600000   79274.246400\n",
       "max      18.400000  324954.720000"
      ]
     },
     "execution_count": 8,
     "metadata": {},
     "output_type": "execute_result"
    }
   ],
   "source": [
    "df.describe()"
   ]
  },
  {
   "cell_type": "code",
   "execution_count": 9,
   "id": "3bd1ab05-dd37-49d2-b500-5c8d8c09be99",
   "metadata": {},
   "outputs": [
    {
     "name": "stdout",
     "output_type": "stream",
     "text": [
      "<class 'pandas.core.frame.DataFrame'>\n",
      "RangeIndex: 1303 entries, 0 to 1302\n",
      "Data columns (total 11 columns):\n",
      " #   Column            Non-Null Count  Dtype  \n",
      "---  ------            --------------  -----  \n",
      " 0   Company           1303 non-null   object \n",
      " 1   TypeName          1303 non-null   object \n",
      " 2   Inches            1303 non-null   float64\n",
      " 3   ScreenResolution  1303 non-null   object \n",
      " 4   Cpu               1303 non-null   object \n",
      " 5   Ram               1303 non-null   object \n",
      " 6   Memory            1303 non-null   object \n",
      " 7   Gpu               1303 non-null   object \n",
      " 8   OpSys             1303 non-null   object \n",
      " 9   Weight            1303 non-null   object \n",
      " 10  Price             1303 non-null   float64\n",
      "dtypes: float64(2), object(9)\n",
      "memory usage: 112.1+ KB\n"
     ]
    }
   ],
   "source": [
    "df.info()"
   ]
  },
  {
   "cell_type": "code",
   "execution_count": 10,
   "id": "07ef409b-461f-4530-bcc3-d145685d6cd0",
   "metadata": {},
   "outputs": [
    {
     "name": "stdout",
     "output_type": "stream",
     "text": [
      "Total numerical features: 2 and they are: ['Inches', 'Price'] \n",
      "\n",
      "Total categorical features: 9 and they are: ['Company', 'TypeName', 'ScreenResolution', 'Cpu', 'Ram', 'Memory', 'Gpu', 'OpSys', 'Weight']\n"
     ]
    }
   ],
   "source": [
    "numerical_features = [feature for feature in df.columns if df[feature].dtype != 'O']\n",
    "categorical_features = [feature for feature in df.columns if df[feature].dtype == 'O']\n",
    "\n",
    "print(f\"Total numerical features: {len(numerical_features)} and they are: {numerical_features} \\n\")\n",
    "print(f\"Total categorical features: {len(categorical_features)} and they are: {categorical_features}\")"
   ]
  },
  {
   "cell_type": "markdown",
   "id": "8e96b384-2276-406b-b148-233c5455b161",
   "metadata": {},
   "source": [
    "- Weight is in object form, it should be in numerical values."
   ]
  },
  {
   "cell_type": "code",
   "execution_count": 11,
   "id": "e2c57259-3c7e-4524-96f3-471f5b95ad54",
   "metadata": {},
   "outputs": [
    {
     "name": "stdout",
     "output_type": "stream",
     "text": [
      "Company\n",
      "Dell         22.793553\n",
      "Lenovo       22.793553\n",
      "HP           21.028396\n",
      "Asus         12.125863\n",
      "Acer          7.904835\n",
      "MSI           4.144282\n",
      "Toshiba       3.683807\n",
      "Apple         1.611665\n",
      "Samsung       0.690714\n",
      "Razer         0.537222\n",
      "Mediacom      0.537222\n",
      "Microsoft     0.460476\n",
      "Xiaomi        0.306984\n",
      "Vero          0.306984\n",
      "Chuwi         0.230238\n",
      "Google        0.230238\n",
      "Fujitsu       0.230238\n",
      "LG            0.230238\n",
      "Huawei        0.153492\n",
      "Name: proportion, dtype: float64\n",
      " -  -  -  -  -  -  -  -  -  -  -  -  -  -  -  -  -  -  -  -  -  -  -  -  -  -  -  -  -  - \n",
      "TypeName\n",
      "Notebook              55.794321\n",
      "Gaming                15.732924\n",
      "Ultrabook             15.042210\n",
      "2 in 1 Convertible     9.286262\n",
      "Workstation            2.225633\n",
      "Netbook                1.918649\n",
      "Name: proportion, dtype: float64\n",
      " -  -  -  -  -  -  -  -  -  -  -  -  -  -  -  -  -  -  -  -  -  -  -  -  -  -  -  -  -  - \n",
      "ScreenResolution\n",
      "Full HD 1920x1080                                38.910207\n",
      "1366x768                                         21.565618\n",
      "IPS Panel Full HD 1920x1080                      17.651573\n",
      "IPS Panel Full HD / Touchscreen 1920x1080         4.067536\n",
      "Full HD / Touchscreen 1920x1080                   3.607061\n",
      "1600x900                                          1.765157\n",
      "Touchscreen 1366x768                              1.227936\n",
      "Quad HD+ / Touchscreen 3200x1800                  1.151190\n",
      "IPS Panel 4K Ultra HD 3840x2160                   0.920952\n",
      "IPS Panel 4K Ultra HD / Touchscreen 3840x2160     0.844206\n",
      "4K Ultra HD / Touchscreen 3840x2160               0.767460\n",
      "4K Ultra HD 3840x2160                             0.537222\n",
      "Touchscreen 2560x1440                             0.537222\n",
      "IPS Panel 1366x768                                0.537222\n",
      "IPS Panel Quad HD+ / Touchscreen 3200x1800        0.460476\n",
      "IPS Panel Retina Display 2560x1600                0.460476\n",
      "IPS Panel Retina Display 2304x1440                0.460476\n",
      "Touchscreen 2256x1504                             0.460476\n",
      "IPS Panel Touchscreen 2560x1440                   0.383730\n",
      "IPS Panel Retina Display 2880x1800                0.306984\n",
      "IPS Panel Touchscreen 1920x1200                   0.306984\n",
      "1440x900                                          0.306984\n",
      "IPS Panel 2560x1440                               0.306984\n",
      "IPS Panel Quad HD+ 2560x1440                      0.230238\n",
      "Quad HD+ 3200x1800                                0.230238\n",
      "1920x1080                                         0.230238\n",
      "Touchscreen 2400x1600                             0.230238\n",
      "2560x1440                                         0.230238\n",
      "IPS Panel Touchscreen 1366x768                    0.230238\n",
      "IPS Panel Touchscreen / 4K Ultra HD 3840x2160     0.153492\n",
      "IPS Panel Full HD 2160x1440                       0.153492\n",
      "IPS Panel Quad HD+ 3200x1800                      0.153492\n",
      "IPS Panel Retina Display 2736x1824                0.076746\n",
      "IPS Panel Full HD 1920x1200                       0.076746\n",
      "IPS Panel Full HD 2560x1440                       0.076746\n",
      "IPS Panel Full HD 1366x768                        0.076746\n",
      "Touchscreen / Full HD 1920x1080                   0.076746\n",
      "Touchscreen / Quad HD+ 3200x1800                  0.076746\n",
      "Touchscreen / 4K Ultra HD 3840x2160               0.076746\n",
      "IPS Panel Touchscreen 2400x1600                   0.076746\n",
      "Name: proportion, dtype: float64\n",
      " -  -  -  -  -  -  -  -  -  -  -  -  -  -  -  -  -  -  -  -  -  -  -  -  -  -  -  -  -  - \n",
      "Cpu\n",
      "Intel Core i5 7200U 2.5GHz       14.581734\n",
      "Intel Core i7 7700HQ 2.8GHz      11.204912\n",
      "Intel Core i7 7500U 2.7GHz       10.283960\n",
      "Intel Core i7 8550U 1.8GHz        5.602456\n",
      "Intel Core i5 8250U 1.6GHz        5.525710\n",
      "                                   ...    \n",
      "Intel Core M M3-6Y30 0.9GHz       0.076746\n",
      "AMD A9-Series 9420 2.9GHz         0.076746\n",
      "Intel Core i3 6006U 2.2GHz        0.076746\n",
      "AMD A6-Series 7310 2GHz           0.076746\n",
      "Intel Xeon E3-1535M v6 3.1GHz     0.076746\n",
      "Name: proportion, Length: 118, dtype: float64\n",
      " -  -  -  -  -  -  -  -  -  -  -  -  -  -  -  -  -  -  -  -  -  -  -  -  -  -  -  -  -  - \n",
      "Ram\n",
      "8GB     47.505756\n",
      "4GB     28.779739\n",
      "16GB    15.349194\n",
      "6GB      3.146585\n",
      "12GB     1.918649\n",
      "2GB      1.688411\n",
      "32GB     1.304682\n",
      "24GB     0.230238\n",
      "64GB     0.076746\n",
      "Name: proportion, dtype: float64\n",
      " -  -  -  -  -  -  -  -  -  -  -  -  -  -  -  -  -  -  -  -  -  -  -  -  -  -  -  -  -  - \n",
      "Memory\n",
      "256GB SSD                        31.619340\n",
      "1TB HDD                          17.114351\n",
      "500GB HDD                        10.130468\n",
      "512GB SSD                         9.056025\n",
      "128GB SSD +  1TB HDD              7.214121\n",
      "128GB SSD                         5.832694\n",
      "256GB SSD +  1TB HDD              5.602456\n",
      "32GB Flash Storage                2.916347\n",
      "2TB HDD                           1.227936\n",
      "64GB Flash Storage                1.151190\n",
      "512GB SSD +  1TB HDD              1.074444\n",
      "1TB SSD                           1.074444\n",
      "256GB SSD +  2TB HDD              0.767460\n",
      "1.0TB Hybrid                      0.690714\n",
      "256GB Flash Storage               0.613968\n",
      "16GB Flash Storage                0.537222\n",
      "32GB SSD                          0.460476\n",
      "180GB SSD                         0.383730\n",
      "128GB Flash Storage               0.306984\n",
      "512GB SSD +  2TB HDD              0.230238\n",
      "16GB SSD                          0.230238\n",
      "512GB Flash Storage               0.153492\n",
      "1TB SSD +  1TB HDD                0.153492\n",
      "256GB SSD +  500GB HDD            0.153492\n",
      "128GB SSD +  2TB HDD              0.153492\n",
      "256GB SSD +  256GB SSD            0.153492\n",
      "512GB SSD +  256GB SSD            0.076746\n",
      "512GB SSD +  512GB SSD            0.076746\n",
      "64GB Flash Storage +  1TB HDD     0.076746\n",
      "1TB HDD +  1TB HDD                0.076746\n",
      "32GB HDD                          0.076746\n",
      "64GB SSD                          0.076746\n",
      "128GB HDD                         0.076746\n",
      "240GB SSD                         0.076746\n",
      "8GB SSD                           0.076746\n",
      "508GB Hybrid                      0.076746\n",
      "1.0TB HDD                         0.076746\n",
      "512GB SSD +  1.0TB Hybrid         0.076746\n",
      "256GB SSD +  1.0TB Hybrid         0.076746\n",
      "Name: proportion, dtype: float64\n",
      " -  -  -  -  -  -  -  -  -  -  -  -  -  -  -  -  -  -  -  -  -  -  -  -  -  -  -  -  -  - \n",
      "Gpu\n",
      "Intel HD Graphics 620      21.565618\n",
      "Intel HD Graphics 520      14.198005\n",
      "Intel UHD Graphics 620      5.218726\n",
      "Nvidia GeForce GTX 1050     5.065234\n",
      "Nvidia GeForce GTX 1060     3.683807\n",
      "                             ...    \n",
      "AMD Radeon R5 520           0.076746\n",
      "AMD Radeon R7               0.076746\n",
      "Intel HD Graphics 540       0.076746\n",
      "AMD Radeon 540              0.076746\n",
      "ARM Mali T860 MP4           0.076746\n",
      "Name: proportion, Length: 110, dtype: float64\n",
      " -  -  -  -  -  -  -  -  -  -  -  -  -  -  -  -  -  -  -  -  -  -  -  -  -  -  -  -  -  - \n",
      "OpSys\n",
      "Windows 10      82.271681\n",
      "No OS            5.065234\n",
      "Linux            4.758250\n",
      "Windows 7        3.453569\n",
      "Chrome OS        2.072141\n",
      "macOS            0.997698\n",
      "Mac OS X         0.613968\n",
      "Windows 10 S     0.613968\n",
      "Android          0.153492\n",
      "Name: proportion, dtype: float64\n",
      " -  -  -  -  -  -  -  -  -  -  -  -  -  -  -  -  -  -  -  -  -  -  -  -  -  -  -  -  -  - \n",
      "Weight\n",
      "2.2kg     9.286262\n",
      "2.1kg     4.451266\n",
      "2.4kg     3.376823\n",
      "2.3kg     3.146585\n",
      "2.5kg     2.916347\n",
      "            ...   \n",
      "3.25kg    0.076746\n",
      "4.7kg     0.076746\n",
      "1.55kg    0.076746\n",
      "1.18kg    0.076746\n",
      "4.0kg     0.076746\n",
      "Name: proportion, Length: 179, dtype: float64\n",
      " -  -  -  -  -  -  -  -  -  -  -  -  -  -  -  -  -  -  -  -  -  -  -  -  -  -  -  -  -  - \n"
     ]
    }
   ],
   "source": [
    "# proportion of count data on ccategorical_features\n",
    "for col in categorical_features: \n",
    "    print(df[col].value_counts(normalize = True) * 100)\n",
    "    print(' - ' * 30)"
   ]
  },
  {
   "cell_type": "markdown",
   "id": "69c68e36-f07d-4c7c-bbc5-041fa5c4b818",
   "metadata": {},
   "source": [
    "# let's check all columns one by one"
   ]
  },
  {
   "cell_type": "markdown",
   "id": "c3b84e65-b977-4b7b-a6a9-aa413c16615f",
   "metadata": {},
   "source": [
    "## Company"
   ]
  },
  {
   "cell_type": "code",
   "execution_count": 12,
   "id": "8db4825a-3fbd-40db-9c35-9b60afed312f",
   "metadata": {},
   "outputs": [
    {
     "data": {
      "text/plain": [
       "Company\n",
       "Dell         297\n",
       "Lenovo       297\n",
       "HP           274\n",
       "Asus         158\n",
       "Acer         103\n",
       "MSI           54\n",
       "Toshiba       48\n",
       "Apple         21\n",
       "Samsung        9\n",
       "Razer          7\n",
       "Mediacom       7\n",
       "Microsoft      6\n",
       "Xiaomi         4\n",
       "Vero           4\n",
       "Chuwi          3\n",
       "Google         3\n",
       "Fujitsu        3\n",
       "LG             3\n",
       "Huawei         2\n",
       "Name: count, dtype: int64"
      ]
     },
     "execution_count": 12,
     "metadata": {},
     "output_type": "execute_result"
    }
   ],
   "source": [
    "df['Company'].value_counts()"
   ]
  },
  {
   "cell_type": "code",
   "execution_count": 13,
   "id": "b18e2795-7c55-42d7-8540-bc41337fac35",
   "metadata": {},
   "outputs": [
    {
     "data": {
      "image/png": "[encoded data removed]",
      "text/plain": [
       "<Figure size 640x480 with 1 Axes>"
      ]
     },
     "metadata": {},
     "output_type": "display_data"
    }
   ],
   "source": [
    "df['Company'].value_counts().plot(kind = 'bar')\n",
    "plt.show()"
   ]
  },
  {
   "cell_type": "markdown",
   "id": "275cb5d0-373d-460c-9d90-11f943b190ad",
   "metadata": {},
   "source": [
    "- Company after Samsung, the count of laptops are very low.\n",
    "- Possibly we can take till Samsung and remove others. "
   ]
  },
  {
   "cell_type": "code",
   "execution_count": 14,
   "id": "71501463-fac7-4b00-a7af-87a5c516fb19",
   "metadata": {},
   "outputs": [
    {
     "data": {
      "text/plain": [
       "Index(['Company', 'TypeName', 'Inches', 'ScreenResolution', 'Cpu', 'Ram',\n",
       "       'Memory', 'Gpu', 'OpSys', 'Weight', 'Price'],\n",
       "      dtype='object')"
      ]
     },
     "execution_count": 14,
     "metadata": {},
     "output_type": "execute_result"
    }
   ],
   "source": [
    "df.columns"
   ]
  },
  {
   "cell_type": "markdown",
   "id": "4221be9a-049d-4e87-9591-fee35accea83",
   "metadata": {},
   "source": [
    "## TypeName"
   ]
  },
  {
   "cell_type": "code",
   "execution_count": 15,
   "id": "07fcebd4-16c1-4914-a0dd-927dc2e6d769",
   "metadata": {},
   "outputs": [
    {
     "data": {
      "text/plain": [
       "TypeName\n",
       "Notebook              0.557943\n",
       "Gaming                0.157329\n",
       "Ultrabook             0.150422\n",
       "2 in 1 Convertible    0.092863\n",
       "Workstation           0.022256\n",
       "Netbook               0.019186\n",
       "Name: proportion, dtype: float64"
      ]
     },
     "execution_count": 15,
     "metadata": {},
     "output_type": "execute_result"
    }
   ],
   "source": [
    "df['TypeName'].value_counts(normalize = True)"
   ]
  },
  {
   "cell_type": "code",
   "execution_count": 16,
   "id": "cafdef76-6aa8-4607-9b07-72ce04621cc9",
   "metadata": {},
   "outputs": [
    {
     "data": {
      "image/png": "[encoded data removed]",
      "text/plain": [
       "<Figure size 640x480 with 1 Axes>"
      ]
     },
     "metadata": {},
     "output_type": "display_data"
    }
   ],
   "source": [
    "df['TypeName'].value_counts().plot(kind = 'bar')\n",
    "plt.show()"
   ]
  },
  {
   "cell_type": "code",
   "execution_count": 17,
   "id": "ac529f17-9491-4ecb-8b9c-69319fbc303d",
   "metadata": {},
   "outputs": [
    {
     "data": {
      "text/plain": [
       "TypeName\n",
       "Notebook              727\n",
       "Gaming                205\n",
       "Ultrabook             196\n",
       "2 in 1 Convertible    121\n",
       "Workstation            29\n",
       "Netbook                25\n",
       "Name: count, dtype: int64"
      ]
     },
     "execution_count": 17,
     "metadata": {},
     "output_type": "execute_result"
    }
   ],
   "source": [
    "df['TypeName'].value_counts()"
   ]
  },
  {
   "cell_type": "markdown",
   "id": "53a6d195-b0fd-4158-a953-ee95d87331af",
   "metadata": {},
   "source": [
    "## Inches"
   ]
  },
  {
   "cell_type": "code",
   "execution_count": 18,
   "id": "7c11b91b-1bad-494b-bdd0-ceee2e1715ad",
   "metadata": {},
   "outputs": [
    {
     "data": {
      "text/plain": [
       "0       13.3\n",
       "1       13.3\n",
       "2       15.6\n",
       "3       15.4\n",
       "4       13.3\n",
       "        ... \n",
       "1298    14.0\n",
       "1299    13.3\n",
       "1300    14.0\n",
       "1301    15.6\n",
       "1302    15.6\n",
       "Name: Inches, Length: 1303, dtype: float64"
      ]
     },
     "execution_count": 18,
     "metadata": {},
     "output_type": "execute_result"
    }
   ],
   "source": [
    "df['Inches']"
   ]
  },
  {
   "cell_type": "code",
   "execution_count": 19,
   "id": "df6059e8-2059-4fbf-a27d-2fd33c101939",
   "metadata": {},
   "outputs": [
    {
     "data": {
      "image/png": "[encoded data removed]",
      "text/plain": [
       "<Figure size 640x480 with 1 Axes>"
      ]
     },
     "metadata": {},
     "output_type": "display_data"
    }
   ],
   "source": [
    "sns.histplot(df['Inches'] , kde = True) \n",
    "plt.show()"
   ]
  },
  {
   "cell_type": "code",
   "execution_count": 20,
   "id": "672ffb79-79bb-40f3-8ffa-9a6e9ca958e2",
   "metadata": {},
   "outputs": [
    {
     "data": {
      "text/plain": [
       "Inches\n",
       "15.6    665\n",
       "14.0    197\n",
       "13.3    164\n",
       "17.3    164\n",
       "12.5     39\n",
       "11.6     33\n",
       "12.0      6\n",
       "13.5      6\n",
       "13.9      6\n",
       "12.3      5\n",
       "10.1      4\n",
       "15.4      4\n",
       "15.0      4\n",
       "13.0      2\n",
       "18.4      1\n",
       "17.0      1\n",
       "14.1      1\n",
       "11.3      1\n",
       "Name: count, dtype: int64"
      ]
     },
     "execution_count": 20,
     "metadata": {},
     "output_type": "execute_result"
    }
   ],
   "source": [
    "df['Inches'].value_counts()"
   ]
  },
  {
   "cell_type": "markdown",
   "id": "850f830b-8716-41b2-9633-7969a3d99cac",
   "metadata": {},
   "source": [
    "- It is not a proper continous values which is normal.\n",
    "- But some sizes there are very few laptops"
   ]
  },
  {
   "cell_type": "code",
   "execution_count": 21,
   "id": "d289e92c-1700-47af-9dc1-f126ea5d788a",
   "metadata": {},
   "outputs": [
    {
     "data": {
      "text/plain": [
       "0               IPS Panel Retina Display 2560x1600\n",
       "1                                         1440x900\n",
       "2                                Full HD 1920x1080\n",
       "3               IPS Panel Retina Display 2880x1800\n",
       "4               IPS Panel Retina Display 2560x1600\n",
       "                           ...                    \n",
       "1298     IPS Panel Full HD / Touchscreen 1920x1080\n",
       "1299    IPS Panel Quad HD+ / Touchscreen 3200x1800\n",
       "1300                                      1366x768\n",
       "1301                                      1366x768\n",
       "1302                                      1366x768\n",
       "Name: ScreenResolution, Length: 1303, dtype: object"
      ]
     },
     "execution_count": 21,
     "metadata": {},
     "output_type": "execute_result"
    }
   ],
   "source": [
    "df['ScreenResolution']"
   ]
  },
  {
   "cell_type": "markdown",
   "id": "0105d430-38e1-4437-b117-e62b2d457219",
   "metadata": {},
   "source": [
    "### we can make few feature from here like:\n",
    "- Display type: ips or other\n",
    "- HD or not\n",
    "- Touchscreeen or not\n",
    "- Resolution"
   ]
  },
  {
   "cell_type": "code",
   "execution_count": 22,
   "id": "e272e049-b327-4831-a777-286426637437",
   "metadata": {},
   "outputs": [
    {
     "data": {
      "text/plain": [
       "0                       Intel Core i5 2.3GHz\n",
       "1                       Intel Core i5 1.8GHz\n",
       "2                 Intel Core i5 7200U 2.5GHz\n",
       "3                       Intel Core i7 2.7GHz\n",
       "4                       Intel Core i5 3.1GHz\n",
       "                        ...                 \n",
       "1298              Intel Core i7 6500U 2.5GHz\n",
       "1299              Intel Core i7 6500U 2.5GHz\n",
       "1300    Intel Celeron Dual Core N3050 1.6GHz\n",
       "1301              Intel Core i7 6500U 2.5GHz\n",
       "1302    Intel Celeron Dual Core N3050 1.6GHz\n",
       "Name: Cpu, Length: 1303, dtype: object"
      ]
     },
     "execution_count": 22,
     "metadata": {},
     "output_type": "execute_result"
    }
   ],
   "source": [
    "df['Cpu']"
   ]
  },
  {
   "cell_type": "markdown",
   "id": "41d7286e-d56f-4ae8-b8a5-9028f939bbb7",
   "metadata": {},
   "source": [
    "### Again a useful column\n",
    "- cpu brand name\n",
    "- which core\n",
    "- clock speed(GHz)\n",
    "- model number\n",
    "- CPU generation\n",
    "- SKU model(7200 , 6500 , N3050)"
   ]
  },
  {
   "cell_type": "code",
   "execution_count": 23,
   "id": "337f4736-6c42-4704-b70f-914058dc8cc2",
   "metadata": {},
   "outputs": [
    {
     "data": {
      "text/plain": [
       "Index(['Company', 'TypeName', 'Inches', 'ScreenResolution', 'Cpu', 'Ram',\n",
       "       'Memory', 'Gpu', 'OpSys', 'Weight', 'Price'],\n",
       "      dtype='object')"
      ]
     },
     "execution_count": 23,
     "metadata": {},
     "output_type": "execute_result"
    }
   ],
   "source": [
    "df.columns"
   ]
  },
  {
   "cell_type": "markdown",
   "id": "5b8a9e3d-6ebe-4393-96d4-868307c0d54e",
   "metadata": {},
   "source": [
    "## Ram"
   ]
  },
  {
   "cell_type": "code",
   "execution_count": 24,
   "id": "4c5ecf4c-6955-46f5-b115-b98272f5e29b",
   "metadata": {},
   "outputs": [
    {
     "data": {
      "text/plain": [
       "0        8GB\n",
       "1        8GB\n",
       "2        8GB\n",
       "3       16GB\n",
       "4        8GB\n",
       "        ... \n",
       "1298     4GB\n",
       "1299    16GB\n",
       "1300     2GB\n",
       "1301     6GB\n",
       "1302     4GB\n",
       "Name: Ram, Length: 1303, dtype: object"
      ]
     },
     "execution_count": 24,
     "metadata": {},
     "output_type": "execute_result"
    }
   ],
   "source": [
    "df['Ram']"
   ]
  },
  {
   "cell_type": "code",
   "execution_count": 25,
   "id": "e5167db0-7b63-40c6-b2e6-bcff46d69caf",
   "metadata": {},
   "outputs": [
    {
     "data": {
      "text/plain": [
       "Ram\n",
       "8GB     619\n",
       "4GB     375\n",
       "16GB    200\n",
       "6GB      41\n",
       "12GB     25\n",
       "2GB      22\n",
       "32GB     17\n",
       "24GB      3\n",
       "64GB      1\n",
       "Name: count, dtype: int64"
      ]
     },
     "execution_count": 25,
     "metadata": {},
     "output_type": "execute_result"
    }
   ],
   "source": [
    "df['Ram'].value_counts()"
   ]
  },
  {
   "cell_type": "markdown",
   "id": "11292b49-6558-4d7e-a632-7748fe43e203",
   "metadata": {},
   "source": [
    "- There is GB suffix which need to remove"
   ]
  },
  {
   "cell_type": "code",
   "execution_count": 26,
   "id": "0e033019-cb0b-4630-9286-5fa94c0869ca",
   "metadata": {},
   "outputs": [],
   "source": [
    "df['Ram'] = df['Ram'].str.replace(\"GB\" , \"\")"
   ]
  },
  {
   "cell_type": "code",
   "execution_count": 27,
   "id": "35b0160e-e6c2-4bb8-8947-51c0bfdda7a0",
   "metadata": {},
   "outputs": [],
   "source": [
    "df['Ram'] = df['Ram'].astype(int)"
   ]
  },
  {
   "cell_type": "code",
   "execution_count": 28,
   "id": "e1a78280-c5b4-46cf-b31f-709fb30a3742",
   "metadata": {},
   "outputs": [
    {
     "data": {
      "text/plain": [
       "Ram\n",
       "8     619\n",
       "4     375\n",
       "16    200\n",
       "6      41\n",
       "12     25\n",
       "2      22\n",
       "32     17\n",
       "24      3\n",
       "64      1\n",
       "Name: count, dtype: int64"
      ]
     },
     "execution_count": 28,
     "metadata": {},
     "output_type": "execute_result"
    }
   ],
   "source": [
    "df['Ram'].value_counts()"
   ]
  },
  {
   "cell_type": "code",
   "execution_count": 29,
   "id": "8a70790c-b9e1-42b4-aae7-ff830c33549b",
   "metadata": {},
   "outputs": [
    {
     "data": {
      "image/png": "[encoded data removed]",
      "text/plain": [
       "<Figure size 640x480 with 1 Axes>"
      ]
     },
     "metadata": {},
     "output_type": "display_data"
    }
   ],
   "source": [
    "df['Ram'].value_counts().plot(kind = 'bar')\n",
    "plt.show()"
   ]
  },
  {
   "cell_type": "markdown",
   "id": "6d2e9254-5c89-478c-9cf0-693b77de3ff4",
   "metadata": {},
   "source": [
    "## Memory"
   ]
  },
  {
   "cell_type": "code",
   "execution_count": 30,
   "id": "fa8512d9-8ab5-4dff-81e2-0c9215d9fcef",
   "metadata": {},
   "outputs": [
    {
     "data": {
      "text/plain": [
       "Memory\n",
       "256GB SSD                        412\n",
       "1TB HDD                          223\n",
       "500GB HDD                        132\n",
       "512GB SSD                        118\n",
       "128GB SSD +  1TB HDD              94\n",
       "128GB SSD                         76\n",
       "256GB SSD +  1TB HDD              73\n",
       "32GB Flash Storage                38\n",
       "2TB HDD                           16\n",
       "64GB Flash Storage                15\n",
       "512GB SSD +  1TB HDD              14\n",
       "1TB SSD                           14\n",
       "256GB SSD +  2TB HDD              10\n",
       "1.0TB Hybrid                       9\n",
       "256GB Flash Storage                8\n",
       "16GB Flash Storage                 7\n",
       "32GB SSD                           6\n",
       "180GB SSD                          5\n",
       "128GB Flash Storage                4\n",
       "512GB SSD +  2TB HDD               3\n",
       "16GB SSD                           3\n",
       "512GB Flash Storage                2\n",
       "1TB SSD +  1TB HDD                 2\n",
       "256GB SSD +  500GB HDD             2\n",
       "128GB SSD +  2TB HDD               2\n",
       "256GB SSD +  256GB SSD             2\n",
       "512GB SSD +  256GB SSD             1\n",
       "512GB SSD +  512GB SSD             1\n",
       "64GB Flash Storage +  1TB HDD      1\n",
       "1TB HDD +  1TB HDD                 1\n",
       "32GB HDD                           1\n",
       "64GB SSD                           1\n",
       "128GB HDD                          1\n",
       "240GB SSD                          1\n",
       "8GB SSD                            1\n",
       "508GB Hybrid                       1\n",
       "1.0TB HDD                          1\n",
       "512GB SSD +  1.0TB Hybrid          1\n",
       "256GB SSD +  1.0TB Hybrid          1\n",
       "Name: count, dtype: int64"
      ]
     },
     "execution_count": 30,
     "metadata": {},
     "output_type": "execute_result"
    }
   ],
   "source": [
    "df['Memory'].value_counts()"
   ]
  },
  {
   "cell_type": "code",
   "execution_count": 32,
   "id": "f5438449-29d7-4dcc-adac-46f345ab6976",
   "metadata": {},
   "outputs": [
    {
     "data": {
      "text/html": [
       "<div>\n",
       "<style scoped>\n",
       "    .dataframe tbody tr th:only-of-type {\n",
       "        vertical-align: middle;\n",
       "    }\n",
       "\n",
       "    .dataframe tbody tr th {\n",
       "        vertical-align: top;\n",
       "    }\n",
       "\n",
       "    .dataframe thead th {\n",
       "        text-align: right;\n",
       "    }\n",
       "</style>\n",
       "<table border=\"1\" class=\"dataframe\">\n",
       "  <thead>\n",
       "    <tr style=\"text-align: right;\">\n",
       "      <th></th>\n",
       "      <th>Company</th>\n",
       "      <th>TypeName</th>\n",
       "      <th>Inches</th>\n",
       "      <th>ScreenResolution</th>\n",
       "      <th>Cpu</th>\n",
       "      <th>Ram</th>\n",
       "      <th>Memory</th>\n",
       "      <th>Gpu</th>\n",
       "      <th>OpSys</th>\n",
       "      <th>Weight</th>\n",
       "      <th>Price</th>\n",
       "    </tr>\n",
       "  </thead>\n",
       "  <tbody>\n",
       "    <tr>\n",
       "      <th>1</th>\n",
       "      <td>Apple</td>\n",
       "      <td>Ultrabook</td>\n",
       "      <td>13.3</td>\n",
       "      <td>1440x900</td>\n",
       "      <td>Intel Core i5 1.8GHz</td>\n",
       "      <td>8</td>\n",
       "      <td>128GB Flash Storage</td>\n",
       "      <td>Intel HD Graphics 6000</td>\n",
       "      <td>macOS</td>\n",
       "      <td>1.34kg</td>\n",
       "      <td>47895.5232</td>\n",
       "    </tr>\n",
       "    <tr>\n",
       "      <th>6</th>\n",
       "      <td>Apple</td>\n",
       "      <td>Ultrabook</td>\n",
       "      <td>15.4</td>\n",
       "      <td>IPS Panel Retina Display 2880x1800</td>\n",
       "      <td>Intel Core i7 2.2GHz</td>\n",
       "      <td>16</td>\n",
       "      <td>256GB Flash Storage</td>\n",
       "      <td>Intel Iris Pro Graphics</td>\n",
       "      <td>Mac OS X</td>\n",
       "      <td>2.04kg</td>\n",
       "      <td>114017.6016</td>\n",
       "    </tr>\n",
       "    <tr>\n",
       "      <th>7</th>\n",
       "      <td>Apple</td>\n",
       "      <td>Ultrabook</td>\n",
       "      <td>13.3</td>\n",
       "      <td>1440x900</td>\n",
       "      <td>Intel Core i5 1.8GHz</td>\n",
       "      <td>8</td>\n",
       "      <td>256GB Flash Storage</td>\n",
       "      <td>Intel HD Graphics 6000</td>\n",
       "      <td>macOS</td>\n",
       "      <td>1.34kg</td>\n",
       "      <td>61735.5360</td>\n",
       "    </tr>\n",
       "    <tr>\n",
       "      <th>20</th>\n",
       "      <td>Asus</td>\n",
       "      <td>Netbook</td>\n",
       "      <td>11.6</td>\n",
       "      <td>1366x768</td>\n",
       "      <td>Intel Atom x5-Z8350 1.44GHz</td>\n",
       "      <td>2</td>\n",
       "      <td>32GB Flash Storage</td>\n",
       "      <td>Intel HD Graphics 400</td>\n",
       "      <td>Windows 10</td>\n",
       "      <td>0.98kg</td>\n",
       "      <td>10224.4320</td>\n",
       "    </tr>\n",
       "    <tr>\n",
       "      <th>26</th>\n",
       "      <td>Apple</td>\n",
       "      <td>Ultrabook</td>\n",
       "      <td>13.3</td>\n",
       "      <td>1440x900</td>\n",
       "      <td>Intel Core i5 1.6GHz</td>\n",
       "      <td>8</td>\n",
       "      <td>128GB Flash Storage</td>\n",
       "      <td>Intel HD Graphics 6000</td>\n",
       "      <td>Mac OS X</td>\n",
       "      <td>1.35kg</td>\n",
       "      <td>58554.7200</td>\n",
       "    </tr>\n",
       "    <tr>\n",
       "      <th>...</th>\n",
       "      <td>...</td>\n",
       "      <td>...</td>\n",
       "      <td>...</td>\n",
       "      <td>...</td>\n",
       "      <td>...</td>\n",
       "      <td>...</td>\n",
       "      <td>...</td>\n",
       "      <td>...</td>\n",
       "      <td>...</td>\n",
       "      <td>...</td>\n",
       "      <td>...</td>\n",
       "    </tr>\n",
       "    <tr>\n",
       "      <th>1272</th>\n",
       "      <td>Lenovo</td>\n",
       "      <td>Notebook</td>\n",
       "      <td>14.0</td>\n",
       "      <td>1366x768</td>\n",
       "      <td>Intel Celeron Dual Core N3050 1.6GHz</td>\n",
       "      <td>2</td>\n",
       "      <td>64GB Flash Storage</td>\n",
       "      <td>Intel HD Graphics</td>\n",
       "      <td>Windows 10</td>\n",
       "      <td>1.5kg</td>\n",
       "      <td>12201.1200</td>\n",
       "    </tr>\n",
       "    <tr>\n",
       "      <th>1282</th>\n",
       "      <td>HP</td>\n",
       "      <td>Netbook</td>\n",
       "      <td>11.6</td>\n",
       "      <td>1366x768</td>\n",
       "      <td>Intel Celeron Dual Core N3060 1.6GHz</td>\n",
       "      <td>2</td>\n",
       "      <td>32GB Flash Storage</td>\n",
       "      <td>Intel HD Graphics 400</td>\n",
       "      <td>Windows 10</td>\n",
       "      <td>1.17kg</td>\n",
       "      <td>11135.5200</td>\n",
       "    </tr>\n",
       "    <tr>\n",
       "      <th>1286</th>\n",
       "      <td>Lenovo</td>\n",
       "      <td>Notebook</td>\n",
       "      <td>14.0</td>\n",
       "      <td>1366x768</td>\n",
       "      <td>Intel Celeron Dual Core N3050 1.6GHz</td>\n",
       "      <td>2</td>\n",
       "      <td>64GB Flash Storage</td>\n",
       "      <td>Intel HD Graphics</td>\n",
       "      <td>Windows 10</td>\n",
       "      <td>1.5kg</td>\n",
       "      <td>12201.1200</td>\n",
       "    </tr>\n",
       "    <tr>\n",
       "      <th>1296</th>\n",
       "      <td>HP</td>\n",
       "      <td>Netbook</td>\n",
       "      <td>11.6</td>\n",
       "      <td>1366x768</td>\n",
       "      <td>Intel Celeron Dual Core N3060 1.6GHz</td>\n",
       "      <td>2</td>\n",
       "      <td>32GB Flash Storage</td>\n",
       "      <td>Intel HD Graphics 400</td>\n",
       "      <td>Windows 10</td>\n",
       "      <td>1.17kg</td>\n",
       "      <td>11135.5200</td>\n",
       "    </tr>\n",
       "    <tr>\n",
       "      <th>1300</th>\n",
       "      <td>Lenovo</td>\n",
       "      <td>Notebook</td>\n",
       "      <td>14.0</td>\n",
       "      <td>1366x768</td>\n",
       "      <td>Intel Celeron Dual Core N3050 1.6GHz</td>\n",
       "      <td>2</td>\n",
       "      <td>64GB Flash Storage</td>\n",
       "      <td>Intel HD Graphics</td>\n",
       "      <td>Windows 10</td>\n",
       "      <td>1.5kg</td>\n",
       "      <td>12201.1200</td>\n",
       "    </tr>\n",
       "  </tbody>\n",
       "</table>\n",
       "<p>75 rows × 11 columns</p>\n",
       "</div>"
      ],
      "text/plain": [
       "     Company   TypeName  Inches                    ScreenResolution  \\\n",
       "1      Apple  Ultrabook    13.3                            1440x900   \n",
       "6      Apple  Ultrabook    15.4  IPS Panel Retina Display 2880x1800   \n",
       "7      Apple  Ultrabook    13.3                            1440x900   \n",
       "20      Asus    Netbook    11.6                            1366x768   \n",
       "26     Apple  Ultrabook    13.3                            1440x900   \n",
       "...      ...        ...     ...                                 ...   \n",
       "1272  Lenovo   Notebook    14.0                            1366x768   \n",
       "1282      HP    Netbook    11.6                            1366x768   \n",
       "1286  Lenovo   Notebook    14.0                            1366x768   \n",
       "1296      HP    Netbook    11.6                            1366x768   \n",
       "1300  Lenovo   Notebook    14.0                            1366x768   \n",
       "\n",
       "                                       Cpu  Ram               Memory  \\\n",
       "1                     Intel Core i5 1.8GHz    8  128GB Flash Storage   \n",
       "6                     Intel Core i7 2.2GHz   16  256GB Flash Storage   \n",
       "7                     Intel Core i5 1.8GHz    8  256GB Flash Storage   \n",
       "20             Intel Atom x5-Z8350 1.44GHz    2   32GB Flash Storage   \n",
       "26                    Intel Core i5 1.6GHz    8  128GB Flash Storage   \n",
       "...                                    ...  ...                  ...   \n",
       "1272  Intel Celeron Dual Core N3050 1.6GHz    2   64GB Flash Storage   \n",
       "1282  Intel Celeron Dual Core N3060 1.6GHz    2   32GB Flash Storage   \n",
       "1286  Intel Celeron Dual Core N3050 1.6GHz    2   64GB Flash Storage   \n",
       "1296  Intel Celeron Dual Core N3060 1.6GHz    2   32GB Flash Storage   \n",
       "1300  Intel Celeron Dual Core N3050 1.6GHz    2   64GB Flash Storage   \n",
       "\n",
       "                          Gpu       OpSys  Weight        Price  \n",
       "1      Intel HD Graphics 6000       macOS  1.34kg   47895.5232  \n",
       "6     Intel Iris Pro Graphics    Mac OS X  2.04kg  114017.6016  \n",
       "7      Intel HD Graphics 6000       macOS  1.34kg   61735.5360  \n",
       "20      Intel HD Graphics 400  Windows 10  0.98kg   10224.4320  \n",
       "26     Intel HD Graphics 6000    Mac OS X  1.35kg   58554.7200  \n",
       "...                       ...         ...     ...          ...  \n",
       "1272        Intel HD Graphics  Windows 10   1.5kg   12201.1200  \n",
       "1282    Intel HD Graphics 400  Windows 10  1.17kg   11135.5200  \n",
       "1286        Intel HD Graphics  Windows 10   1.5kg   12201.1200  \n",
       "1296    Intel HD Graphics 400  Windows 10  1.17kg   11135.5200  \n",
       "1300        Intel HD Graphics  Windows 10   1.5kg   12201.1200  \n",
       "\n",
       "[75 rows x 11 columns]"
      ]
     },
     "execution_count": 32,
     "metadata": {},
     "output_type": "execute_result"
    }
   ],
   "source": [
    "df[df['Memory'].str.contains(\"Flash\")]"
   ]
  },
  {
   "cell_type": "code",
   "execution_count": 33,
   "id": "18c86a1f-480f-4ee5-84d5-1cf6a9212dcd",
   "metadata": {},
   "outputs": [
    {
     "data": {
      "text/html": [
       "<div>\n",
       "<style scoped>\n",
       "    .dataframe tbody tr th:only-of-type {\n",
       "        vertical-align: middle;\n",
       "    }\n",
       "\n",
       "    .dataframe tbody tr th {\n",
       "        vertical-align: top;\n",
       "    }\n",
       "\n",
       "    .dataframe thead th {\n",
       "        text-align: right;\n",
       "    }\n",
       "</style>\n",
       "<table border=\"1\" class=\"dataframe\">\n",
       "  <thead>\n",
       "    <tr style=\"text-align: right;\">\n",
       "      <th></th>\n",
       "      <th>Company</th>\n",
       "      <th>TypeName</th>\n",
       "      <th>Inches</th>\n",
       "      <th>ScreenResolution</th>\n",
       "      <th>Cpu</th>\n",
       "      <th>Ram</th>\n",
       "      <th>Memory</th>\n",
       "      <th>Gpu</th>\n",
       "      <th>OpSys</th>\n",
       "      <th>Weight</th>\n",
       "      <th>Price</th>\n",
       "    </tr>\n",
       "  </thead>\n",
       "  <tbody>\n",
       "    <tr>\n",
       "      <th>151</th>\n",
       "      <td>Dell</td>\n",
       "      <td>Gaming</td>\n",
       "      <td>15.6</td>\n",
       "      <td>Full HD 1920x1080</td>\n",
       "      <td>Intel Core i7 7700HQ 2.8GHz</td>\n",
       "      <td>8</td>\n",
       "      <td>1.0TB Hybrid</td>\n",
       "      <td>Nvidia GeForce GTX 1050</td>\n",
       "      <td>Windows 10</td>\n",
       "      <td>2.62kg</td>\n",
       "      <td>47898.7200</td>\n",
       "    </tr>\n",
       "    <tr>\n",
       "      <th>976</th>\n",
       "      <td>Lenovo</td>\n",
       "      <td>Notebook</td>\n",
       "      <td>14.0</td>\n",
       "      <td>1366x768</td>\n",
       "      <td>Intel Core i5 6200U 2.3GHz</td>\n",
       "      <td>4</td>\n",
       "      <td>508GB Hybrid</td>\n",
       "      <td>Intel HD Graphics 520</td>\n",
       "      <td>Windows 7</td>\n",
       "      <td>1.70kg</td>\n",
       "      <td>53386.5600</td>\n",
       "    </tr>\n",
       "    <tr>\n",
       "      <th>1010</th>\n",
       "      <td>Dell</td>\n",
       "      <td>Gaming</td>\n",
       "      <td>15.6</td>\n",
       "      <td>Full HD 1920x1080</td>\n",
       "      <td>Intel Core i5 7300HQ 2.5GHz</td>\n",
       "      <td>8</td>\n",
       "      <td>1.0TB Hybrid</td>\n",
       "      <td>Nvidia GeForce GTX 1050</td>\n",
       "      <td>Windows 10</td>\n",
       "      <td>2.65kg</td>\n",
       "      <td>50562.7200</td>\n",
       "    </tr>\n",
       "    <tr>\n",
       "      <th>1081</th>\n",
       "      <td>Lenovo</td>\n",
       "      <td>Gaming</td>\n",
       "      <td>17.3</td>\n",
       "      <td>IPS Panel Full HD 1920x1080</td>\n",
       "      <td>Intel Core i7 6820HK 2.7GHz</td>\n",
       "      <td>32</td>\n",
       "      <td>512GB SSD +  1.0TB Hybrid</td>\n",
       "      <td>Nvidia GeForce GTX 980M</td>\n",
       "      <td>Windows 10</td>\n",
       "      <td>4.6kg</td>\n",
       "      <td>172627.2000</td>\n",
       "    </tr>\n",
       "    <tr>\n",
       "      <th>1116</th>\n",
       "      <td>Lenovo</td>\n",
       "      <td>Gaming</td>\n",
       "      <td>17.3</td>\n",
       "      <td>IPS Panel Full HD 1920x1080</td>\n",
       "      <td>Intel Core i7 6820HK 2.7GHz</td>\n",
       "      <td>16</td>\n",
       "      <td>256GB SSD +  1.0TB Hybrid</td>\n",
       "      <td>Nvidia GeForce GTX 980M</td>\n",
       "      <td>Windows 10</td>\n",
       "      <td>4.6kg</td>\n",
       "      <td>146519.4672</td>\n",
       "    </tr>\n",
       "    <tr>\n",
       "      <th>1135</th>\n",
       "      <td>Lenovo</td>\n",
       "      <td>Notebook</td>\n",
       "      <td>15.6</td>\n",
       "      <td>Full HD 1920x1080</td>\n",
       "      <td>Intel Core i7 6500U 2.5GHz</td>\n",
       "      <td>16</td>\n",
       "      <td>1.0TB Hybrid</td>\n",
       "      <td>AMD Radeon R7 M360</td>\n",
       "      <td>Windows 10</td>\n",
       "      <td>2.5kg</td>\n",
       "      <td>58554.7200</td>\n",
       "    </tr>\n",
       "    <tr>\n",
       "      <th>1158</th>\n",
       "      <td>Lenovo</td>\n",
       "      <td>Notebook</td>\n",
       "      <td>15.6</td>\n",
       "      <td>Full HD 1920x1080</td>\n",
       "      <td>Intel Core i5 6200U 2.3GHz</td>\n",
       "      <td>8</td>\n",
       "      <td>1.0TB Hybrid</td>\n",
       "      <td>AMD Radeon R5 M330</td>\n",
       "      <td>Windows 10</td>\n",
       "      <td>2.5kg</td>\n",
       "      <td>42010.7472</td>\n",
       "    </tr>\n",
       "    <tr>\n",
       "      <th>1176</th>\n",
       "      <td>Lenovo</td>\n",
       "      <td>Notebook</td>\n",
       "      <td>15.6</td>\n",
       "      <td>Full HD 1920x1080</td>\n",
       "      <td>Intel Core i7 6500U 2.5GHz</td>\n",
       "      <td>4</td>\n",
       "      <td>1.0TB Hybrid</td>\n",
       "      <td>Intel HD Graphics 520</td>\n",
       "      <td>Windows 7</td>\n",
       "      <td>2.32kg</td>\n",
       "      <td>43956.0000</td>\n",
       "    </tr>\n",
       "    <tr>\n",
       "      <th>1258</th>\n",
       "      <td>Lenovo</td>\n",
       "      <td>Notebook</td>\n",
       "      <td>15.6</td>\n",
       "      <td>Full HD 1920x1080</td>\n",
       "      <td>Intel Core i7 6500U 2.5GHz</td>\n",
       "      <td>8</td>\n",
       "      <td>1.0TB Hybrid</td>\n",
       "      <td>AMD Radeon R5 M330</td>\n",
       "      <td>Windows 7</td>\n",
       "      <td>2.32kg</td>\n",
       "      <td>47685.6000</td>\n",
       "    </tr>\n",
       "    <tr>\n",
       "      <th>1266</th>\n",
       "      <td>HP</td>\n",
       "      <td>Notebook</td>\n",
       "      <td>15.6</td>\n",
       "      <td>Full HD 1920x1080</td>\n",
       "      <td>AMD A9-Series 9410 2.9GHz</td>\n",
       "      <td>6</td>\n",
       "      <td>1.0TB Hybrid</td>\n",
       "      <td>AMD Radeon R7 M440</td>\n",
       "      <td>Windows 10</td>\n",
       "      <td>2.04kg</td>\n",
       "      <td>29303.4672</td>\n",
       "    </tr>\n",
       "    <tr>\n",
       "      <th>1280</th>\n",
       "      <td>HP</td>\n",
       "      <td>Notebook</td>\n",
       "      <td>15.6</td>\n",
       "      <td>Full HD 1920x1080</td>\n",
       "      <td>AMD A9-Series 9410 2.9GHz</td>\n",
       "      <td>6</td>\n",
       "      <td>1.0TB Hybrid</td>\n",
       "      <td>AMD Radeon R7 M440</td>\n",
       "      <td>Windows 10</td>\n",
       "      <td>2.04kg</td>\n",
       "      <td>29303.4672</td>\n",
       "    </tr>\n",
       "    <tr>\n",
       "      <th>1294</th>\n",
       "      <td>HP</td>\n",
       "      <td>Notebook</td>\n",
       "      <td>15.6</td>\n",
       "      <td>Full HD 1920x1080</td>\n",
       "      <td>AMD A9-Series 9410 2.9GHz</td>\n",
       "      <td>6</td>\n",
       "      <td>1.0TB Hybrid</td>\n",
       "      <td>AMD Radeon R7 M440</td>\n",
       "      <td>Windows 10</td>\n",
       "      <td>2.04kg</td>\n",
       "      <td>29303.4672</td>\n",
       "    </tr>\n",
       "  </tbody>\n",
       "</table>\n",
       "</div>"
      ],
      "text/plain": [
       "     Company  TypeName  Inches             ScreenResolution  \\\n",
       "151     Dell    Gaming    15.6            Full HD 1920x1080   \n",
       "976   Lenovo  Notebook    14.0                     1366x768   \n",
       "1010    Dell    Gaming    15.6            Full HD 1920x1080   \n",
       "1081  Lenovo    Gaming    17.3  IPS Panel Full HD 1920x1080   \n",
       "1116  Lenovo    Gaming    17.3  IPS Panel Full HD 1920x1080   \n",
       "1135  Lenovo  Notebook    15.6            Full HD 1920x1080   \n",
       "1158  Lenovo  Notebook    15.6            Full HD 1920x1080   \n",
       "1176  Lenovo  Notebook    15.6            Full HD 1920x1080   \n",
       "1258  Lenovo  Notebook    15.6            Full HD 1920x1080   \n",
       "1266      HP  Notebook    15.6            Full HD 1920x1080   \n",
       "1280      HP  Notebook    15.6            Full HD 1920x1080   \n",
       "1294      HP  Notebook    15.6            Full HD 1920x1080   \n",
       "\n",
       "                              Cpu  Ram                     Memory  \\\n",
       "151   Intel Core i7 7700HQ 2.8GHz    8               1.0TB Hybrid   \n",
       "976    Intel Core i5 6200U 2.3GHz    4               508GB Hybrid   \n",
       "1010  Intel Core i5 7300HQ 2.5GHz    8               1.0TB Hybrid   \n",
       "1081  Intel Core i7 6820HK 2.7GHz   32  512GB SSD +  1.0TB Hybrid   \n",
       "1116  Intel Core i7 6820HK 2.7GHz   16  256GB SSD +  1.0TB Hybrid   \n",
       "1135   Intel Core i7 6500U 2.5GHz   16               1.0TB Hybrid   \n",
       "1158   Intel Core i5 6200U 2.3GHz    8               1.0TB Hybrid   \n",
       "1176   Intel Core i7 6500U 2.5GHz    4               1.0TB Hybrid   \n",
       "1258   Intel Core i7 6500U 2.5GHz    8               1.0TB Hybrid   \n",
       "1266    AMD A9-Series 9410 2.9GHz    6               1.0TB Hybrid   \n",
       "1280    AMD A9-Series 9410 2.9GHz    6               1.0TB Hybrid   \n",
       "1294    AMD A9-Series 9410 2.9GHz    6               1.0TB Hybrid   \n",
       "\n",
       "                          Gpu       OpSys  Weight        Price  \n",
       "151   Nvidia GeForce GTX 1050  Windows 10  2.62kg   47898.7200  \n",
       "976     Intel HD Graphics 520   Windows 7  1.70kg   53386.5600  \n",
       "1010  Nvidia GeForce GTX 1050  Windows 10  2.65kg   50562.7200  \n",
       "1081  Nvidia GeForce GTX 980M  Windows 10   4.6kg  172627.2000  \n",
       "1116  Nvidia GeForce GTX 980M  Windows 10   4.6kg  146519.4672  \n",
       "1135       AMD Radeon R7 M360  Windows 10   2.5kg   58554.7200  \n",
       "1158       AMD Radeon R5 M330  Windows 10   2.5kg   42010.7472  \n",
       "1176    Intel HD Graphics 520   Windows 7  2.32kg   43956.0000  \n",
       "1258       AMD Radeon R5 M330   Windows 7  2.32kg   47685.6000  \n",
       "1266       AMD Radeon R7 M440  Windows 10  2.04kg   29303.4672  \n",
       "1280       AMD Radeon R7 M440  Windows 10  2.04kg   29303.4672  \n",
       "1294       AMD Radeon R7 M440  Windows 10  2.04kg   29303.4672  "
      ]
     },
     "execution_count": 33,
     "metadata": {},
     "output_type": "execute_result"
    }
   ],
   "source": [
    "df[df['Memory'].str.contains(\"Hybrid\")]"
   ]
  },
  {
   "cell_type": "code",
   "execution_count": 34,
   "id": "282fae9c-e3f0-46a5-8f9a-bca0500ebeb4",
   "metadata": {},
   "outputs": [
    {
     "data": {
      "text/plain": [
       "(12, 11)"
      ]
     },
     "execution_count": 34,
     "metadata": {},
     "output_type": "execute_result"
    }
   ],
   "source": [
    "df[df['Memory'].str.contains(\"Hybrid\")].shape"
   ]
  },
  {
   "cell_type": "code",
   "execution_count": 35,
   "id": "e722bee8-66f1-4c27-ab0e-9e944d86957b",
   "metadata": {},
   "outputs": [
    {
     "data": {
      "text/plain": [
       "array(['128GB SSD', '128GB Flash Storage', '256GB SSD', '512GB SSD',\n",
       "       '500GB HDD', '256GB Flash Storage', '1TB HDD',\n",
       "       '32GB Flash Storage', '128GB SSD +  1TB HDD',\n",
       "       '256GB SSD +  256GB SSD', '64GB Flash Storage',\n",
       "       '256GB SSD +  1TB HDD', '256GB SSD +  2TB HDD', '32GB SSD',\n",
       "       '2TB HDD', '64GB SSD', '1.0TB Hybrid', '512GB SSD +  1TB HDD',\n",
       "       '1TB SSD', '256GB SSD +  500GB HDD', '128GB SSD +  2TB HDD',\n",
       "       '512GB SSD +  512GB SSD', '16GB SSD', '16GB Flash Storage',\n",
       "       '512GB SSD +  256GB SSD', '512GB SSD +  2TB HDD',\n",
       "       '64GB Flash Storage +  1TB HDD', '180GB SSD', '1TB HDD +  1TB HDD',\n",
       "       '32GB HDD', '1TB SSD +  1TB HDD', '512GB Flash Storage',\n",
       "       '128GB HDD', '240GB SSD', '8GB SSD', '508GB Hybrid', '1.0TB HDD',\n",
       "       '512GB SSD +  1.0TB Hybrid', '256GB SSD +  1.0TB Hybrid'],\n",
       "      dtype=object)"
      ]
     },
     "execution_count": 35,
     "metadata": {},
     "output_type": "execute_result"
    }
   ],
   "source": [
    "df['Memory'].unique()"
   ]
  },
  {
   "cell_type": "code",
   "execution_count": null,
   "id": "8e7fcb4f-638a-43f3-a427-e77838d5873a",
   "metadata": {},
   "outputs": [],
   "source": []
  },
  {
   "cell_type": "markdown",
   "id": "237e737c-eaac-4e32-a4e7-9d9ffc971be2",
   "metadata": {},
   "source": [
    "### Make new features from memory like:\n",
    "- HDD\n",
    "- SSD\n",
    "- Flash"
   ]
  },
  {
   "cell_type": "markdown",
   "id": "9da283c0-e350-4e4d-81a7-ddf746e129c9",
   "metadata": {},
   "source": [
    "## Gpu"
   ]
  },
  {
   "cell_type": "code",
   "execution_count": 36,
   "id": "8f7bb2c8-a4c2-4449-a3c7-3d0d7874b08d",
   "metadata": {},
   "outputs": [
    {
     "data": {
      "text/plain": [
       "array(['Intel Iris Plus Graphics 640', 'Intel HD Graphics 6000',\n",
       "       'Intel HD Graphics 620', 'AMD Radeon Pro 455',\n",
       "       'Intel Iris Plus Graphics 650', 'AMD Radeon R5',\n",
       "       'Intel Iris Pro Graphics', 'Nvidia GeForce MX150',\n",
       "       'Intel UHD Graphics 620', 'Intel HD Graphics 520',\n",
       "       'AMD Radeon Pro 555', 'AMD Radeon R5 M430',\n",
       "       'Intel HD Graphics 615', 'AMD Radeon Pro 560',\n",
       "       'Nvidia GeForce 940MX', 'Intel HD Graphics 400',\n",
       "       'Nvidia GeForce GTX 1050', 'AMD Radeon R2', 'AMD Radeon 530',\n",
       "       'Nvidia GeForce 930MX', 'Intel HD Graphics',\n",
       "       'Intel HD Graphics 500', 'Nvidia GeForce 930MX ',\n",
       "       'Nvidia GeForce GTX 1060', 'Nvidia GeForce 150MX',\n",
       "       'Intel Iris Graphics 540', 'AMD Radeon RX 580',\n",
       "       'Nvidia GeForce 920MX', 'AMD Radeon R4 Graphics', 'AMD Radeon 520',\n",
       "       'Nvidia GeForce GTX 1070', 'Nvidia GeForce GTX 1050 Ti',\n",
       "       'Nvidia GeForce MX130', 'AMD R4 Graphics',\n",
       "       'Nvidia GeForce GTX 940MX', 'AMD Radeon RX 560',\n",
       "       'Nvidia GeForce 920M', 'AMD Radeon R7 M445', 'AMD Radeon RX 550',\n",
       "       'Nvidia GeForce GTX 1050M', 'Intel HD Graphics 515',\n",
       "       'AMD Radeon R5 M420', 'Intel HD Graphics 505',\n",
       "       'Nvidia GTX 980 SLI', 'AMD R17M-M1-70', 'Nvidia GeForce GTX 1080',\n",
       "       'Nvidia Quadro M1200', 'Nvidia GeForce 920MX ',\n",
       "       'Nvidia GeForce GTX 950M', 'AMD FirePro W4190M ',\n",
       "       'Nvidia GeForce GTX 980M', 'Intel Iris Graphics 550',\n",
       "       'Nvidia GeForce 930M', 'Intel HD Graphics 630',\n",
       "       'AMD Radeon R5 430', 'Nvidia GeForce GTX 940M',\n",
       "       'Intel HD Graphics 510', 'Intel HD Graphics 405',\n",
       "       'AMD Radeon RX 540', 'Nvidia GeForce GT 940MX',\n",
       "       'AMD FirePro W5130M', 'Nvidia Quadro M2200M', 'AMD Radeon R4',\n",
       "       'Nvidia Quadro M620', 'AMD Radeon R7 M460',\n",
       "       'Intel HD Graphics 530', 'Nvidia GeForce GTX 965M',\n",
       "       'Nvidia GeForce GTX1080', 'Nvidia GeForce GTX1050 Ti',\n",
       "       'Nvidia GeForce GTX 960M', 'AMD Radeon R2 Graphics',\n",
       "       'Nvidia Quadro M620M', 'Nvidia GeForce GTX 970M',\n",
       "       'Nvidia GeForce GTX 960<U+039C>', 'Intel Graphics 620',\n",
       "       'Nvidia GeForce GTX 960', 'AMD Radeon R5 520',\n",
       "       'AMD Radeon R7 M440', 'AMD Radeon R7', 'Nvidia Quadro M520M',\n",
       "       'Nvidia Quadro M2200', 'Nvidia Quadro M2000M',\n",
       "       'Intel HD Graphics 540', 'Nvidia Quadro M1000M', 'AMD Radeon 540',\n",
       "       'Nvidia GeForce GTX 1070M', 'Nvidia GeForce GTX1060',\n",
       "       'Intel HD Graphics 5300', 'AMD Radeon R5 M420X',\n",
       "       'AMD Radeon R7 Graphics', 'Nvidia GeForce 920',\n",
       "       'Nvidia GeForce 940M', 'Nvidia GeForce GTX 930MX',\n",
       "       'AMD Radeon R7 M465', 'AMD Radeon R3', 'Nvidia GeForce GTX 1050Ti',\n",
       "       'AMD Radeon R7 M365X', 'AMD Radeon R9 M385',\n",
       "       'Intel HD Graphics 620 ', 'Nvidia Quadro 3000M',\n",
       "       'Nvidia GeForce GTX 980 ', 'AMD Radeon R5 M330',\n",
       "       'AMD FirePro W4190M', 'AMD FirePro W6150M', 'AMD Radeon R5 M315',\n",
       "       'Nvidia Quadro M500M', 'AMD Radeon R7 M360',\n",
       "       'Nvidia Quadro M3000M', 'Nvidia GeForce 960M', 'ARM Mali T860 MP4'],\n",
       "      dtype=object)"
      ]
     },
     "execution_count": 36,
     "metadata": {},
     "output_type": "execute_result"
    }
   ],
   "source": [
    "df['Gpu'].unique()"
   ]
  },
  {
   "cell_type": "markdown",
   "id": "dc7cddb0-aac0-4d31-b560-6aa15630de29",
   "metadata": {},
   "source": [
    "- Gpu Brand\n",
    "- Series Type(GTX , RTX m RX)\n",
    "- Gpu Model Number(1050)\n",
    "- Gpu performance Tier"
   ]
  },
  {
   "cell_type": "code",
   "execution_count": 37,
   "id": "5d47980c-eaac-4ee4-af8e-64e81223f941",
   "metadata": {},
   "outputs": [
    {
     "data": {
      "text/plain": [
       "array(['macOS', 'No OS', 'Windows 10', 'Mac OS X', 'Linux', 'Android',\n",
       "       'Windows 10 S', 'Chrome OS', 'Windows 7'], dtype=object)"
      ]
     },
     "execution_count": 37,
     "metadata": {},
     "output_type": "execute_result"
    }
   ],
   "source": [
    "df['OpSys'].unique()"
   ]
  },
  {
   "cell_type": "code",
   "execution_count": 38,
   "id": "0134262b-cfcc-426f-be15-bdafa780d1d4",
   "metadata": {},
   "outputs": [
    {
     "data": {
      "text/html": [
       "<div>\n",
       "<style scoped>\n",
       "    .dataframe tbody tr th:only-of-type {\n",
       "        vertical-align: middle;\n",
       "    }\n",
       "\n",
       "    .dataframe tbody tr th {\n",
       "        vertical-align: top;\n",
       "    }\n",
       "\n",
       "    .dataframe thead th {\n",
       "        text-align: right;\n",
       "    }\n",
       "</style>\n",
       "<table border=\"1\" class=\"dataframe\">\n",
       "  <thead>\n",
       "    <tr style=\"text-align: right;\">\n",
       "      <th></th>\n",
       "      <th>Company</th>\n",
       "      <th>TypeName</th>\n",
       "      <th>Inches</th>\n",
       "      <th>ScreenResolution</th>\n",
       "      <th>Cpu</th>\n",
       "      <th>Ram</th>\n",
       "      <th>Memory</th>\n",
       "      <th>Gpu</th>\n",
       "      <th>OpSys</th>\n",
       "      <th>Weight</th>\n",
       "      <th>Price</th>\n",
       "    </tr>\n",
       "  </thead>\n",
       "  <tbody>\n",
       "    <tr>\n",
       "      <th>2</th>\n",
       "      <td>HP</td>\n",
       "      <td>Notebook</td>\n",
       "      <td>15.6</td>\n",
       "      <td>Full HD 1920x1080</td>\n",
       "      <td>Intel Core i5 7200U 2.5GHz</td>\n",
       "      <td>8</td>\n",
       "      <td>256GB SSD</td>\n",
       "      <td>Intel HD Graphics 620</td>\n",
       "      <td>No OS</td>\n",
       "      <td>1.86kg</td>\n",
       "      <td>30636.0000</td>\n",
       "    </tr>\n",
       "    <tr>\n",
       "      <th>10</th>\n",
       "      <td>HP</td>\n",
       "      <td>Notebook</td>\n",
       "      <td>15.6</td>\n",
       "      <td>1366x768</td>\n",
       "      <td>Intel Core i5 7200U 2.5GHz</td>\n",
       "      <td>4</td>\n",
       "      <td>500GB HDD</td>\n",
       "      <td>Intel HD Graphics 620</td>\n",
       "      <td>No OS</td>\n",
       "      <td>1.86kg</td>\n",
       "      <td>20986.9920</td>\n",
       "    </tr>\n",
       "    <tr>\n",
       "      <th>11</th>\n",
       "      <td>HP</td>\n",
       "      <td>Notebook</td>\n",
       "      <td>15.6</td>\n",
       "      <td>Full HD 1920x1080</td>\n",
       "      <td>Intel Core i3 6006U 2GHz</td>\n",
       "      <td>4</td>\n",
       "      <td>500GB HDD</td>\n",
       "      <td>Intel HD Graphics 520</td>\n",
       "      <td>No OS</td>\n",
       "      <td>1.86kg</td>\n",
       "      <td>18381.0672</td>\n",
       "    </tr>\n",
       "    <tr>\n",
       "      <th>18</th>\n",
       "      <td>Lenovo</td>\n",
       "      <td>Notebook</td>\n",
       "      <td>15.6</td>\n",
       "      <td>Full HD 1920x1080</td>\n",
       "      <td>Intel Core i3 7100U 2.4GHz</td>\n",
       "      <td>8</td>\n",
       "      <td>1TB HDD</td>\n",
       "      <td>Nvidia GeForce 940MX</td>\n",
       "      <td>No OS</td>\n",
       "      <td>2.2kg</td>\n",
       "      <td>26586.7200</td>\n",
       "    </tr>\n",
       "    <tr>\n",
       "      <th>22</th>\n",
       "      <td>HP</td>\n",
       "      <td>Notebook</td>\n",
       "      <td>15.6</td>\n",
       "      <td>1366x768</td>\n",
       "      <td>AMD E-Series E2-9000e 1.5GHz</td>\n",
       "      <td>4</td>\n",
       "      <td>500GB HDD</td>\n",
       "      <td>AMD Radeon R2</td>\n",
       "      <td>No OS</td>\n",
       "      <td>1.86kg</td>\n",
       "      <td>13746.2400</td>\n",
       "    </tr>\n",
       "    <tr>\n",
       "      <th>...</th>\n",
       "      <td>...</td>\n",
       "      <td>...</td>\n",
       "      <td>...</td>\n",
       "      <td>...</td>\n",
       "      <td>...</td>\n",
       "      <td>...</td>\n",
       "      <td>...</td>\n",
       "      <td>...</td>\n",
       "      <td>...</td>\n",
       "      <td>...</td>\n",
       "      <td>...</td>\n",
       "    </tr>\n",
       "    <tr>\n",
       "      <th>1174</th>\n",
       "      <td>Lenovo</td>\n",
       "      <td>Notebook</td>\n",
       "      <td>15.6</td>\n",
       "      <td>Full HD 1920x1080</td>\n",
       "      <td>Intel Core i7 7500U 2.7GHz</td>\n",
       "      <td>8</td>\n",
       "      <td>1TB HDD</td>\n",
       "      <td>Nvidia GeForce 940MX</td>\n",
       "      <td>No OS</td>\n",
       "      <td>2.2kg</td>\n",
       "      <td>37775.5200</td>\n",
       "    </tr>\n",
       "    <tr>\n",
       "      <th>1196</th>\n",
       "      <td>Lenovo</td>\n",
       "      <td>Notebook</td>\n",
       "      <td>15.6</td>\n",
       "      <td>1366x768</td>\n",
       "      <td>Intel Core i3 6006U 2GHz</td>\n",
       "      <td>4</td>\n",
       "      <td>1TB HDD</td>\n",
       "      <td>AMD Radeon R5 M430</td>\n",
       "      <td>No OS</td>\n",
       "      <td>1.9kg</td>\n",
       "      <td>19607.0400</td>\n",
       "    </tr>\n",
       "    <tr>\n",
       "      <th>1201</th>\n",
       "      <td>Lenovo</td>\n",
       "      <td>Notebook</td>\n",
       "      <td>15.6</td>\n",
       "      <td>1366x768</td>\n",
       "      <td>Intel Core i7 6500U 2.5GHz</td>\n",
       "      <td>8</td>\n",
       "      <td>500GB HDD</td>\n",
       "      <td>Nvidia GeForce 920MX</td>\n",
       "      <td>No OS</td>\n",
       "      <td>2.2kg</td>\n",
       "      <td>33513.1200</td>\n",
       "    </tr>\n",
       "    <tr>\n",
       "      <th>1217</th>\n",
       "      <td>Lenovo</td>\n",
       "      <td>Notebook</td>\n",
       "      <td>17.3</td>\n",
       "      <td>1600x900</td>\n",
       "      <td>Intel Core i5 7200U 2.5GHz</td>\n",
       "      <td>8</td>\n",
       "      <td>1TB HDD</td>\n",
       "      <td>Intel HD Graphics 620</td>\n",
       "      <td>No OS</td>\n",
       "      <td>2.8kg</td>\n",
       "      <td>28717.9200</td>\n",
       "    </tr>\n",
       "    <tr>\n",
       "      <th>1248</th>\n",
       "      <td>Lenovo</td>\n",
       "      <td>Notebook</td>\n",
       "      <td>15.6</td>\n",
       "      <td>IPS Panel Full HD 1920x1080</td>\n",
       "      <td>Intel Core i5 7200U 2.5GHz</td>\n",
       "      <td>8</td>\n",
       "      <td>256GB SSD</td>\n",
       "      <td>Intel HD Graphics 620</td>\n",
       "      <td>No OS</td>\n",
       "      <td>2.3kg</td>\n",
       "      <td>30529.4400</td>\n",
       "    </tr>\n",
       "  </tbody>\n",
       "</table>\n",
       "<p>66 rows × 11 columns</p>\n",
       "</div>"
      ],
      "text/plain": [
       "     Company  TypeName  Inches             ScreenResolution  \\\n",
       "2         HP  Notebook    15.6            Full HD 1920x1080   \n",
       "10        HP  Notebook    15.6                     1366x768   \n",
       "11        HP  Notebook    15.6            Full HD 1920x1080   \n",
       "18    Lenovo  Notebook    15.6            Full HD 1920x1080   \n",
       "22        HP  Notebook    15.6                     1366x768   \n",
       "...      ...       ...     ...                          ...   \n",
       "1174  Lenovo  Notebook    15.6            Full HD 1920x1080   \n",
       "1196  Lenovo  Notebook    15.6                     1366x768   \n",
       "1201  Lenovo  Notebook    15.6                     1366x768   \n",
       "1217  Lenovo  Notebook    17.3                     1600x900   \n",
       "1248  Lenovo  Notebook    15.6  IPS Panel Full HD 1920x1080   \n",
       "\n",
       "                               Cpu  Ram     Memory                    Gpu  \\\n",
       "2       Intel Core i5 7200U 2.5GHz    8  256GB SSD  Intel HD Graphics 620   \n",
       "10      Intel Core i5 7200U 2.5GHz    4  500GB HDD  Intel HD Graphics 620   \n",
       "11        Intel Core i3 6006U 2GHz    4  500GB HDD  Intel HD Graphics 520   \n",
       "18      Intel Core i3 7100U 2.4GHz    8    1TB HDD   Nvidia GeForce 940MX   \n",
       "22    AMD E-Series E2-9000e 1.5GHz    4  500GB HDD          AMD Radeon R2   \n",
       "...                            ...  ...        ...                    ...   \n",
       "1174    Intel Core i7 7500U 2.7GHz    8    1TB HDD   Nvidia GeForce 940MX   \n",
       "1196      Intel Core i3 6006U 2GHz    4    1TB HDD     AMD Radeon R5 M430   \n",
       "1201    Intel Core i7 6500U 2.5GHz    8  500GB HDD   Nvidia GeForce 920MX   \n",
       "1217    Intel Core i5 7200U 2.5GHz    8    1TB HDD  Intel HD Graphics 620   \n",
       "1248    Intel Core i5 7200U 2.5GHz    8  256GB SSD  Intel HD Graphics 620   \n",
       "\n",
       "      OpSys  Weight       Price  \n",
       "2     No OS  1.86kg  30636.0000  \n",
       "10    No OS  1.86kg  20986.9920  \n",
       "11    No OS  1.86kg  18381.0672  \n",
       "18    No OS   2.2kg  26586.7200  \n",
       "22    No OS  1.86kg  13746.2400  \n",
       "...     ...     ...         ...  \n",
       "1174  No OS   2.2kg  37775.5200  \n",
       "1196  No OS   1.9kg  19607.0400  \n",
       "1201  No OS   2.2kg  33513.1200  \n",
       "1217  No OS   2.8kg  28717.9200  \n",
       "1248  No OS   2.3kg  30529.4400  \n",
       "\n",
       "[66 rows x 11 columns]"
      ]
     },
     "execution_count": 38,
     "metadata": {},
     "output_type": "execute_result"
    }
   ],
   "source": [
    "df[df['OpSys'] == 'No OS']"
   ]
  },
  {
   "cell_type": "code",
   "execution_count": 39,
   "id": "4bb0fb7b-1835-470a-8af9-31d805db4e23",
   "metadata": {},
   "outputs": [
    {
     "data": {
      "image/png": "[encoded data removed]",
      "text/plain": [
       "<Figure size 640x480 with 1 Axes>"
      ]
     },
     "metadata": {},
     "output_type": "display_data"
    }
   ],
   "source": [
    "df['OpSys'].value_counts().plot(kind = 'bar')\n",
    "plt.show()"
   ]
  },
  {
   "cell_type": "code",
   "execution_count": 40,
   "id": "c8db1518-9936-4832-b5ab-7c9b847e596f",
   "metadata": {},
   "outputs": [
    {
     "data": {
      "text/plain": [
       "OpSys\n",
       "Windows 10      1072\n",
       "No OS             66\n",
       "Linux             62\n",
       "Windows 7         45\n",
       "Chrome OS         27\n",
       "macOS             13\n",
       "Mac OS X           8\n",
       "Windows 10 S       8\n",
       "Android            2\n",
       "Name: count, dtype: int64"
      ]
     },
     "execution_count": 40,
     "metadata": {},
     "output_type": "execute_result"
    }
   ],
   "source": [
    "df['OpSys'].value_counts()"
   ]
  },
  {
   "cell_type": "markdown",
   "id": "0c66a2c3-97be-46d1-8057-2b6168b37e71",
   "metadata": {},
   "source": [
    "- Merge Mac OS X with Mac OS\n",
    "- Merger Windows 10 S with Windows 10"
   ]
  },
  {
   "cell_type": "code",
   "execution_count": 41,
   "id": "9d898d03-bb7b-4031-b5ff-9b600e5baa03",
   "metadata": {},
   "outputs": [
    {
     "data": {
      "text/plain": [
       "0       1.37kg\n",
       "1       1.34kg\n",
       "2       1.86kg\n",
       "3       1.83kg\n",
       "4       1.37kg\n",
       "         ...  \n",
       "1298     1.8kg\n",
       "1299     1.3kg\n",
       "1300     1.5kg\n",
       "1301    2.19kg\n",
       "1302     2.2kg\n",
       "Name: Weight, Length: 1303, dtype: object"
      ]
     },
     "execution_count": 41,
     "metadata": {},
     "output_type": "execute_result"
    }
   ],
   "source": [
    "df['Weight']"
   ]
  },
  {
   "cell_type": "code",
   "execution_count": 43,
   "id": "0227fc11-daed-4b82-85ff-243b3cb0005d",
   "metadata": {},
   "outputs": [],
   "source": [
    "df['Weight']= df['Weight'].str.replace(\"kg\" , \"\")"
   ]
  },
  {
   "cell_type": "code",
   "execution_count": 45,
   "id": "41ec1811-40c8-41df-9d39-acb46970a111",
   "metadata": {},
   "outputs": [],
   "source": [
    "df['Weight'] = df['Weight'].astype(float)"
   ]
  },
  {
   "cell_type": "code",
   "execution_count": 46,
   "id": "105a965f-6640-40ad-99b3-325671382854",
   "metadata": {},
   "outputs": [
    {
     "data": {
      "image/png": "[encoded data removed]",
      "text/plain": [
       "<Figure size 640x480 with 1 Axes>"
      ]
     },
     "metadata": {},
     "output_type": "display_data"
    }
   ],
   "source": [
    "sns.histplot(df['Weight'] , kde = True) \n",
    "plt.show()"
   ]
  },
  {
   "cell_type": "markdown",
   "id": "bb1d22a4-16da-491c-a21a-bb15a78cecbf",
   "metadata": {},
   "source": [
    "## Statistical QNA"
   ]
  },
  {
   "cell_type": "markdown",
   "id": "60b11aa5-8adc-4416-a179-f46b10b96fad",
   "metadata": {},
   "source": [
    "### 1. Does price varies based on Company"
   ]
  },
  {
   "cell_type": "code",
   "execution_count": 49,
   "id": "a783c207-e090-42c9-8c60-2732dd205099",
   "metadata": {},
   "outputs": [],
   "source": [
    "company_price = df.groupby(\"Company\")[\"Price\"].mean().sort_values(ascending = False)"
   ]
  },
  {
   "cell_type": "code",
   "execution_count": 50,
   "id": "c0d2acc8-e95c-49ac-900a-72d2f252f221",
   "metadata": {},
   "outputs": [
    {
     "data": {
      "text/plain": [
       "Company\n",
       "Razer        178282.491429\n",
       "LG           111834.720000\n",
       "MSI           92116.226133\n",
       "Google        89386.080000\n",
       "Microsoft     85903.788000\n",
       "Apple         83340.499886\n",
       "Huawei        75870.720000\n",
       "Samsung       75308.320000\n",
       "Toshiba       67549.050000\n",
       "Dell          63193.755782\n",
       "Xiaomi        60390.882000\n",
       "Asus          58830.143878\n",
       "Lenovo        57882.563200\n",
       "HP            56891.044222\n",
       "Fujitsu       38841.120000\n",
       "Acer          33394.615969\n",
       "Chuwi         16745.726400\n",
       "Mediacom      15717.600000\n",
       "Vero          11584.404000\n",
       "Name: Price, dtype: float64"
      ]
     },
     "execution_count": 50,
     "metadata": {},
     "output_type": "execute_result"
    }
   ],
   "source": [
    "company_price"
   ]
  },
  {
   "cell_type": "code",
   "execution_count": 51,
   "id": "c77e4c50-0109-44ff-9755-4fc6bdd91b08",
   "metadata": {},
   "outputs": [
    {
     "data": {
      "image/png": "[encoded data removed]",
      "text/plain": [
       "<Figure size 1000x500 with 1 Axes>"
      ]
     },
     "metadata": {},
     "output_type": "display_data"
    }
   ],
   "source": [
    "plt.figure(figsize = (10 , 5))\n",
    "company_price.plot(kind = 'bar', color ='skyblue', edgecolor = 'black')\n",
    "plt.title(\"Average Laptop Price by Company\")\n",
    "plt.xlabel(\"Company\")\n",
    "plt.ylabel(\"Average Price\")\n",
    "plt.xticks(rotation = 45 , ha = 'right')\n",
    "plt.tight_layout()\n",
    "plt.show()"
   ]
  },
  {
   "cell_type": "code",
   "execution_count": 52,
   "id": "89847351-d7c2-42f0-9e07-791d2578cca6",
   "metadata": {},
   "outputs": [
    {
     "data": {
      "image/png": "[encoded data removed]",
      "text/plain": [
       "<Figure size 1000x500 with 1 Axes>"
      ]
     },
     "metadata": {},
     "output_type": "display_data"
    }
   ],
   "source": [
    "plt.figure(figsize = (10 , 5))\n",
    "sns.barplot(x = df['Company'] , y = df['Price'])\n",
    "plt.xticks(rotation = 45 , ha = 'right') \n",
    "plt.tight_layout()\n",
    "plt.show()"
   ]
  },
  {
   "cell_type": "code",
   "execution_count": 61,
   "id": "4d6094c0-9790-4ba8-8367-50d74640530d",
   "metadata": {},
   "outputs": [
    {
     "name": "stdout",
     "output_type": "stream",
     "text": [
      "The mean price differs significantly across companies.\n"
     ]
    }
   ],
   "source": [
    "# Doing ANOVA test to find significance \n",
    "from scipy.stats import f_oneway\n",
    "groups = [df[df['Company'] == cat]['Price'] for cat in df['Company'].unique()]\n",
    "f_stat, p_value = f_oneway(*groups)\n",
    "\n",
    "if p_value < 0.05:\n",
    "    print(\"The mean price differs significantly across companies.\")\n",
    "else:\n",
    "    print(\"No significant difference in mean price across companies.\")"
   ]
  },
  {
   "cell_type": "markdown",
   "id": "f868cea3-c1eb-4da0-adfc-9ba16a60cc2a",
   "metadata": {},
   "source": [
    "- Price varies based on Company.\n",
    "- Razer is the most expensive Company\n",
    "- Acer , Lenovo , Toshiba , Huawei , Xiaomi are budget Companies.\n",
    "- Apple , Dell , HP , MSI , Microsoft , Huawei , Google , LG are mid-range companies"
   ]
  },
  {
   "cell_type": "code",
   "execution_count": 53,
   "id": "8638c103-132c-4832-a305-bb9af6454e90",
   "metadata": {},
   "outputs": [
    {
     "data": {
      "text/html": [
       "<div>\n",
       "<style scoped>\n",
       "    .dataframe tbody tr th:only-of-type {\n",
       "        vertical-align: middle;\n",
       "    }\n",
       "\n",
       "    .dataframe tbody tr th {\n",
       "        vertical-align: top;\n",
       "    }\n",
       "\n",
       "    .dataframe thead th {\n",
       "        text-align: right;\n",
       "    }\n",
       "</style>\n",
       "<table border=\"1\" class=\"dataframe\">\n",
       "  <thead>\n",
       "    <tr style=\"text-align: right;\">\n",
       "      <th></th>\n",
       "      <th>Company</th>\n",
       "      <th>TypeName</th>\n",
       "      <th>Inches</th>\n",
       "      <th>ScreenResolution</th>\n",
       "      <th>Cpu</th>\n",
       "      <th>Ram</th>\n",
       "      <th>Memory</th>\n",
       "      <th>Gpu</th>\n",
       "      <th>OpSys</th>\n",
       "      <th>Weight</th>\n",
       "      <th>Price</th>\n",
       "    </tr>\n",
       "  </thead>\n",
       "  <tbody>\n",
       "    <tr>\n",
       "      <th>0</th>\n",
       "      <td>Apple</td>\n",
       "      <td>Ultrabook</td>\n",
       "      <td>13.3</td>\n",
       "      <td>IPS Panel Retina Display 2560x1600</td>\n",
       "      <td>Intel Core i5 2.3GHz</td>\n",
       "      <td>8</td>\n",
       "      <td>128GB SSD</td>\n",
       "      <td>Intel Iris Plus Graphics 640</td>\n",
       "      <td>macOS</td>\n",
       "      <td>1.37</td>\n",
       "      <td>71378.6832</td>\n",
       "    </tr>\n",
       "    <tr>\n",
       "      <th>1</th>\n",
       "      <td>Apple</td>\n",
       "      <td>Ultrabook</td>\n",
       "      <td>13.3</td>\n",
       "      <td>1440x900</td>\n",
       "      <td>Intel Core i5 1.8GHz</td>\n",
       "      <td>8</td>\n",
       "      <td>128GB Flash Storage</td>\n",
       "      <td>Intel HD Graphics 6000</td>\n",
       "      <td>macOS</td>\n",
       "      <td>1.34</td>\n",
       "      <td>47895.5232</td>\n",
       "    </tr>\n",
       "    <tr>\n",
       "      <th>2</th>\n",
       "      <td>HP</td>\n",
       "      <td>Notebook</td>\n",
       "      <td>15.6</td>\n",
       "      <td>Full HD 1920x1080</td>\n",
       "      <td>Intel Core i5 7200U 2.5GHz</td>\n",
       "      <td>8</td>\n",
       "      <td>256GB SSD</td>\n",
       "      <td>Intel HD Graphics 620</td>\n",
       "      <td>No OS</td>\n",
       "      <td>1.86</td>\n",
       "      <td>30636.0000</td>\n",
       "    </tr>\n",
       "    <tr>\n",
       "      <th>3</th>\n",
       "      <td>Apple</td>\n",
       "      <td>Ultrabook</td>\n",
       "      <td>15.4</td>\n",
       "      <td>IPS Panel Retina Display 2880x1800</td>\n",
       "      <td>Intel Core i7 2.7GHz</td>\n",
       "      <td>16</td>\n",
       "      <td>512GB SSD</td>\n",
       "      <td>AMD Radeon Pro 455</td>\n",
       "      <td>macOS</td>\n",
       "      <td>1.83</td>\n",
       "      <td>135195.3360</td>\n",
       "    </tr>\n",
       "    <tr>\n",
       "      <th>4</th>\n",
       "      <td>Apple</td>\n",
       "      <td>Ultrabook</td>\n",
       "      <td>13.3</td>\n",
       "      <td>IPS Panel Retina Display 2560x1600</td>\n",
       "      <td>Intel Core i5 3.1GHz</td>\n",
       "      <td>8</td>\n",
       "      <td>256GB SSD</td>\n",
       "      <td>Intel Iris Plus Graphics 650</td>\n",
       "      <td>macOS</td>\n",
       "      <td>1.37</td>\n",
       "      <td>96095.8080</td>\n",
       "    </tr>\n",
       "  </tbody>\n",
       "</table>\n",
       "</div>"
      ],
      "text/plain": [
       "  Company   TypeName  Inches                    ScreenResolution  \\\n",
       "0   Apple  Ultrabook    13.3  IPS Panel Retina Display 2560x1600   \n",
       "1   Apple  Ultrabook    13.3                            1440x900   \n",
       "2      HP   Notebook    15.6                   Full HD 1920x1080   \n",
       "3   Apple  Ultrabook    15.4  IPS Panel Retina Display 2880x1800   \n",
       "4   Apple  Ultrabook    13.3  IPS Panel Retina Display 2560x1600   \n",
       "\n",
       "                          Cpu  Ram               Memory  \\\n",
       "0        Intel Core i5 2.3GHz    8            128GB SSD   \n",
       "1        Intel Core i5 1.8GHz    8  128GB Flash Storage   \n",
       "2  Intel Core i5 7200U 2.5GHz    8            256GB SSD   \n",
       "3        Intel Core i7 2.7GHz   16            512GB SSD   \n",
       "4        Intel Core i5 3.1GHz    8            256GB SSD   \n",
       "\n",
       "                            Gpu  OpSys  Weight        Price  \n",
       "0  Intel Iris Plus Graphics 640  macOS    1.37   71378.6832  \n",
       "1        Intel HD Graphics 6000  macOS    1.34   47895.5232  \n",
       "2         Intel HD Graphics 620  No OS    1.86   30636.0000  \n",
       "3            AMD Radeon Pro 455  macOS    1.83  135195.3360  \n",
       "4  Intel Iris Plus Graphics 650  macOS    1.37   96095.8080  "
      ]
     },
     "execution_count": 53,
     "metadata": {},
     "output_type": "execute_result"
    }
   ],
   "source": [
    "df.head()"
   ]
  },
  {
   "cell_type": "markdown",
   "id": "0f50a6a4-dc32-477d-9e14-67e243cae231",
   "metadata": {},
   "source": [
    "### 2. Does Price varies based on TypeName? "
   ]
  },
  {
   "cell_type": "code",
   "execution_count": 54,
   "id": "e87c463f-3641-4e4f-b53e-766914a08211",
   "metadata": {},
   "outputs": [
    {
     "data": {
      "image/png": "[encoded data removed]",
      "text/plain": [
       "<Figure size 1000x500 with 1 Axes>"
      ]
     },
     "metadata": {},
     "output_type": "display_data"
    }
   ],
   "source": [
    "plt.figure(figsize = (10 , 5))\n",
    "sns.barplot(x = df['TypeName'] , y = df['Price'])\n",
    "plt.xticks(rotation = 45 , ha = 'right') \n",
    "plt.tight_layout()\n",
    "plt.show()"
   ]
  },
  {
   "cell_type": "code",
   "execution_count": 60,
   "id": "16829dd8-2d0c-4b13-a653-0b5a59013ffa",
   "metadata": {},
   "outputs": [
    {
     "name": "stdout",
     "output_type": "stream",
     "text": [
      "The mean price differs significantly across TypeName.\n"
     ]
    }
   ],
   "source": [
    "# Doing ANOVA test to find significance \n",
    "from scipy.stats import f_oneway\n",
    "groups = [df[df['TypeName'] == cat]['Price'] for cat in df['TypeName'].unique()]\n",
    "f_stat, p_value = f_oneway(*groups)\n",
    "\n",
    "if p_value < 0.05:\n",
    "    print(\"The mean price differs significantly across TypeName.\")\n",
    "else:\n",
    "    print(\"No significant difference in mean price across TypeName.\")"
   ]
  },
  {
   "cell_type": "markdown",
   "id": "236eefc0-e640-4341-9800-5d11933b1fb8",
   "metadata": {},
   "source": [
    "- Price Also Varies based on Type of Laptops.\n",
    "- High to Low Price Sequence: Workstation , Gamin , Ultrabook , 2 in 1 Convertible , Notebook , Netbook"
   ]
  },
  {
   "cell_type": "markdown",
   "id": "65cd5753-63fb-4b6c-be99-714e64c5bea4",
   "metadata": {},
   "source": [
    "### 3. How price of Laptop's varies with Size "
   ]
  },
  {
   "cell_type": "code",
   "execution_count": 56,
   "id": "8164b6b3-9529-416b-8a26-34969fb4b852",
   "metadata": {},
   "outputs": [
    {
     "data": {
      "image/png": "[encoded data removed]",
      "text/plain": [
       "<Figure size 1000x500 with 1 Axes>"
      ]
     },
     "metadata": {},
     "output_type": "display_data"
    }
   ],
   "source": [
    "plt.figure(figsize = (10 , 5))\n",
    "sns.scatterplot(x = df['Inches'] , y = df['Price'])\n",
    "plt.xlabel(\"Size(Inches)\")\n",
    "plt.ylabel(\"Price\")\n",
    "plt.show()"
   ]
  },
  {
   "cell_type": "code",
   "execution_count": 57,
   "id": "0a1e1e8d-f7a5-4de9-9690-70ea1a99b5ec",
   "metadata": {},
   "outputs": [
    {
     "data": {
      "image/png": "[encoded data removed]",
      "text/plain": [
       "<Figure size 1000x500 with 1 Axes>"
      ]
     },
     "metadata": {},
     "output_type": "display_data"
    }
   ],
   "source": [
    "plt.figure(figsize = (10 , 5))\n",
    "sns.histplot(x = df['Inches'] , y = df['Price'])\n",
    "plt.xlabel(\"Size(Inches)\")\n",
    "plt.ylabel(\"Price\")\n",
    "plt.show()"
   ]
  },
  {
   "cell_type": "code",
   "execution_count": 59,
   "id": "73a3a5b2-4fc8-4a81-b01f-ec6d22b3631e",
   "metadata": {},
   "outputs": [
    {
     "name": "stdout",
     "output_type": "stream",
     "text": [
      "Correlation = 0.068, p-value = 0.01381\n",
      "Laptop size and price are correlated.\n"
     ]
    }
   ],
   "source": [
    "from scipy.stats import pearsonr\n",
    "\n",
    "corr , p_val = pearsonr(df['Inches'] , df['Price'])\n",
    "print(f\"Correlation = {corr:.3f}, p-value = {p_val:.5f}\")\n",
    "\n",
    "if p_val < 0.05:\n",
    "    print(\"Laptop size and price are correlated.\")\n",
    "else:\n",
    "    print(\"No significant correlation.\")"
   ]
  },
  {
   "cell_type": "markdown",
   "id": "d2299eb2-dde3-4088-9b8c-12c37de6a4d6",
   "metadata": {},
   "source": [
    "### 4. How Ram impacts Price"
   ]
  },
  {
   "cell_type": "code",
   "execution_count": 63,
   "id": "53f196c4-7e8b-4a07-b386-9bfbb47f4c3f",
   "metadata": {},
   "outputs": [
    {
     "name": "stdout",
     "output_type": "stream",
     "text": [
      "Correlation = 0.743 , p-value = 0.00000\n",
      "Ram significantly affects Price.\n"
     ]
    }
   ],
   "source": [
    "# Null Hypo -> No correlation \n",
    "# Alter Hypo -> Has significant correlation \n",
    "corr, p_value = pearsonr(df['Ram'] , df['Price'])\n",
    "\n",
    "print(f\"Correlation = {corr:.3f} , p-value = {p_value:.5f}\")\n",
    "\n",
    "if p_value < 0.05:\n",
    "    print(\"Ram significantly affects Price.\")\n",
    "else:\n",
    "    print(\"No significant effect.\")"
   ]
  },
  {
   "cell_type": "code",
   "execution_count": 64,
   "id": "48d4a2e8-7623-47ed-be45-12b61c251cc2",
   "metadata": {},
   "outputs": [
    {
     "data": {
      "image/png": "[encoded data removed]",
      "text/plain": [
       "<Figure size 1000x500 with 1 Axes>"
      ]
     },
     "metadata": {},
     "output_type": "display_data"
    }
   ],
   "source": [
    "plt.figure(figsize = (10 , 5))\n",
    "sns.histplot(x = df['Ram'] , y = df['Price'] , kde = True)\n",
    "plt.xticks(rotation = 45 , ha = 'right') \n",
    "plt.tight_layout()\n",
    "plt.show()"
   ]
  },
  {
   "cell_type": "code",
   "execution_count": 66,
   "id": "cf44a3b6-0f41-4b76-88fd-4a7cc1c8723a",
   "metadata": {},
   "outputs": [
    {
     "data": {
      "text/plain": [
       "Ram\n",
       "2      13552.857818\n",
       "4      30613.221734\n",
       "6      32778.193873\n",
       "8      62913.713455\n",
       "12     66037.277952\n",
       "16    103191.166872\n",
       "24    117553.440000\n",
       "32    181849.215812\n",
       "64    211788.000000\n",
       "Name: Price, dtype: float64"
      ]
     },
     "execution_count": 66,
     "metadata": {},
     "output_type": "execute_result"
    }
   ],
   "source": [
    "ram_price = df.groupby('Ram')['Price'].mean().sort_values()\n",
    "ram_price"
   ]
  },
  {
   "cell_type": "code",
   "execution_count": 67,
   "id": "0a5ee9a3-ec1c-4cf4-ac17-fa65e3467b2d",
   "metadata": {},
   "outputs": [
    {
     "data": {
      "image/png": "[encoded data removed]",
      "text/plain": [
       "<Figure size 1000x500 with 1 Axes>"
      ]
     },
     "metadata": {},
     "output_type": "display_data"
    }
   ],
   "source": [
    "plt.figure(figsize = (10 , 5))\n",
    "ram_price.plot(kind = 'bar', color ='skyblue', edgecolor = 'black')\n",
    "plt.title(\"Average Laptop Price by Ram\")\n",
    "plt.xlabel(\"Ram\")\n",
    "plt.ylabel(\"Average Price\")\n",
    "plt.tight_layout()\n",
    "plt.show()"
   ]
  },
  {
   "cell_type": "markdown",
   "id": "c19ab220-13d5-461c-8fa7-24f90a0c919a",
   "metadata": {},
   "source": [
    "- As Ram is increasing Price is also increasing. Which is normal."
   ]
  },
  {
   "cell_type": "markdown",
   "id": "35b9a41f-3e00-4b60-b374-9650d33ff035",
   "metadata": {},
   "source": [
    "### 5.How Weights impacts Price"
   ]
  },
  {
   "cell_type": "code",
   "execution_count": 68,
   "id": "7da33030-22e7-4337-9dab-150bc41d931a",
   "metadata": {},
   "outputs": [
    {
     "name": "stdout",
     "output_type": "stream",
     "text": [
      "Correlation = 0.210 , p-value = 0.00000\n",
      "Weight significantly affects Price.\n"
     ]
    }
   ],
   "source": [
    "# Null Hypo -> No correlation \n",
    "# Alter Hypo -> Has significant correlation \n",
    "corr, p_value = pearsonr(df['Weight'] , df['Price'])\n",
    "\n",
    "print(f\"Correlation = {corr:.3f} , p-value = {p_value:.5f}\")\n",
    "\n",
    "if p_value < 0.05:\n",
    "    print(\"Weight significantly affects Price.\")\n",
    "else:\n",
    "    print(\"No significant effect.\")"
   ]
  },
  {
   "cell_type": "code",
   "execution_count": 69,
   "id": "65b4b43c-d505-481c-81d4-b9b3eb056eff",
   "metadata": {},
   "outputs": [
    {
     "data": {
      "image/png": "[encoded data removed]",
      "text/plain": [
       "<Figure size 640x480 with 1 Axes>"
      ]
     },
     "metadata": {},
     "output_type": "display_data"
    }
   ],
   "source": [
    "plt.scatter(x = df['Weight'] , y = df['Price'])\n",
    "plt.show()"
   ]
  },
  {
   "cell_type": "code",
   "execution_count": 70,
   "id": "b40e8727-12a5-4225-81c5-b8c7dff53dd5",
   "metadata": {},
   "outputs": [
    {
     "data": {
      "text/plain": [
       "Weight\n",
       "1.89     13157.22960\n",
       "1.94     20725.92000\n",
       "2.03     21471.84000\n",
       "1.15     21888.31200\n",
       "1.86     22610.22048\n",
       "            ...     \n",
       "3.60    159786.72000\n",
       "3.40    159786.72000\n",
       "4.36    160857.91440\n",
       "4.70    207259.20000\n",
       "3.49    255952.68000\n",
       "Name: Price, Length: 171, dtype: float64"
      ]
     },
     "execution_count": 70,
     "metadata": {},
     "output_type": "execute_result"
    }
   ],
   "source": [
    "weight_price = df.groupby('Weight')['Price'].mean().sort_values()\n",
    "weight_price"
   ]
  },
  {
   "cell_type": "markdown",
   "id": "8744c6a9-7663-4b73-90f9-928b0ec95769",
   "metadata": {},
   "source": [
    "- Statistically significant relationship between weight and price.\n",
    "- Weak positive correlation - weight alone dosn't strongly determine price."
   ]
  },
  {
   "cell_type": "markdown",
   "id": "daa436f4-d91d-4c92-9002-9ccf6527c4ef",
   "metadata": {},
   "source": [
    "# Feature Engineering Notebook will contain all the feature engineering and other analysis."
   ]
  }
 ],
 "metadata": {
  "kernelspec": {
   "display_name": "Python 3 (ipykernel)",
   "language": "python",
   "name": "python3"
  },
  "language_info": {
   "codemirror_mode": {
    "name": "ipython",
    "version": 3
   },
   "file_extension": ".py",
   "mimetype": "text/x-python",
   "name": "python",
   "nbconvert_exporter": "python",
   "pygments_lexer": "ipython3",
   "version": "3.11.4"
  }
 },
 "nbformat": 4,
 "nbformat_minor": 5
}
